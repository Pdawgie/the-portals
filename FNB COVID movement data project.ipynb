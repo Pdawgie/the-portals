{
 "cells": [
  {
   "cell_type": "markdown",
   "metadata": {},
   "source": [
    "NAME: Paul\n",
    "SURNAME: Reitz"
   ]
  },
  {
   "cell_type": "markdown",
   "metadata": {},
   "source": [
    "# Covid-19 Movement Data Analysis in South Africa "
   ]
  },
  {
   "cell_type": "markdown",
   "metadata": {},
   "source": [
    "### Introduction\n",
    "- Covid-19 has been around for more than half a year and there has been alot of data gathered. The data on death rates, recoveries, total cases , testing and health facility data has been thoroughly analysed and processed. I believe focusing on these aspects won't give any new nuanced insights without using advanced machine learning techniques.  \n",
    "\n",
    "For this reason I chose to use data gathered from Google Maps API's about population movement(percentage change per day in a few key sectors) across South Africa from just before the onset of Lockdown in South Africa to recent times. I am chosing to compare data of Gauteng and the Western Cape (the two biggest economic hubs of South Africa).\n",
    "\n",
    "### The Data:\n",
    "Reference to the data:\n",
    "\n",
    "-Data Science for Social Impact Research Group @ University of Pretoria, Coronavirus COVID-19 (2019-nCoV) Data Repository for South Africa. Available on: https://github.com/dsfsi/covid19za.\n",
    "\n",
    "Github repository path:\n",
    "\n",
    "-covid19za/data/mobility/google_mobility/mobility_report_ZA.csv\n",
    "\n",
    "Direct Google csv link:\n",
    "https://www.google.com/covid19/mobility/\n",
    "\n",
    "\n",
    "**VERY IMPORTANT: SAVE THE CSV FILES IN THE SAME DIRECTORY AS THE NOTEBOOK**\n",
    "\n",
    "### Why I think this data is accurate:\n",
    "-The data is gathered in a automated way , this data is based on time series analysis of aggregated individual movements using data from Google Maps API processes. This eliminates a large component of possible human error in the dtata gathering phase. \n",
    "\n",
    "-The data has already been largly processed by a well accreditied group of academics and data scientists namely, the Data Science for Social Impact Research Group @ University of Pretoria. Hence not much of a need for complex SQL queries."
   ]
  },
  {
   "cell_type": "markdown",
   "metadata": {},
   "source": [
    "## Imported packages:\n",
    "\n"
   ]
  },
  {
   "cell_type": "code",
   "execution_count": 64,
   "metadata": {},
   "outputs": [
    {
     "name": "stderr",
     "output_type": "stream",
     "text": [
      "Installing package into 'C:/Users/paulr/OneDrive/Documents/R/win-library/3.6'\n",
      "(as 'lib' is unspecified)\n",
      "\n",
      "also installing the dependencies 'rlang', 'vctrs'\n",
      "\n",
      "\n"
     ]
    },
    {
     "name": "stdout",
     "output_type": "stream",
     "text": [
      "package 'rlang' successfully unpacked and MD5 sums checked\n"
     ]
    },
    {
     "name": "stderr",
     "output_type": "stream",
     "text": [
      "Warning message:\n",
      "\"cannot remove prior installation of package 'rlang'\"\n",
      "Warning message in file.copy(savedcopy, lib, recursive = TRUE):\n",
      "\"problem copying C:\\Users\\paulr\\OneDrive\\Documents\\R\\win-library\\3.6\\00LOCK\\rlang\\libs\\x64\\rlang.dll to C:\\Users\\paulr\\OneDrive\\Documents\\R\\win-library\\3.6\\rlang\\libs\\x64\\rlang.dll: Permission denied\"\n",
      "Warning message:\n",
      "\"restored 'rlang'\"\n"
     ]
    },
    {
     "name": "stdout",
     "output_type": "stream",
     "text": [
      "package 'vctrs' successfully unpacked and MD5 sums checked\n"
     ]
    },
    {
     "name": "stderr",
     "output_type": "stream",
     "text": [
      "Warning message:\n",
      "\"cannot remove prior installation of package 'vctrs'\"\n",
      "Warning message in file.copy(savedcopy, lib, recursive = TRUE):\n",
      "\"problem copying C:\\Users\\paulr\\OneDrive\\Documents\\R\\win-library\\3.6\\00LOCK\\vctrs\\libs\\x64\\vctrs.dll to C:\\Users\\paulr\\OneDrive\\Documents\\R\\win-library\\3.6\\vctrs\\libs\\x64\\vctrs.dll: Permission denied\"\n",
      "Warning message:\n",
      "\"restored 'vctrs'\"\n"
     ]
    },
    {
     "name": "stdout",
     "output_type": "stream",
     "text": [
      "package 'tidyr' successfully unpacked and MD5 sums checked\n",
      "\n",
      "The downloaded binary packages are in\n",
      "\tC:\\Users\\paulr\\AppData\\Local\\Temp\\RtmpANg1hm\\downloaded_packages\n"
     ]
    },
    {
     "name": "stderr",
     "output_type": "stream",
     "text": [
      "Warning message:\n",
      "\"package 'tidyr' was built under R version 3.6.3\"\n"
     ]
    },
    {
     "ename": "ERROR",
     "evalue": "Error: package or namespace load failed for 'tidyr' in loadNamespace(i, c(lib.loc, .libPaths()), versionCheck = vI[[i]]):\n namespace 'vctrs' 0.2.4 is already loaded, but >= 0.3.0 is required\n",
     "output_type": "error",
     "traceback": [
      "Error: package or namespace load failed for 'tidyr' in loadNamespace(i, c(lib.loc, .libPaths()), versionCheck = vI[[i]]):\n namespace 'vctrs' 0.2.4 is already loaded, but >= 0.3.0 is required\nTraceback:\n",
      "1. library(tidyr)",
      "2. tryCatch({\n .     attr(package, \"LibPath\") <- which.lib.loc\n .     ns <- loadNamespace(package, lib.loc)\n .     env <- attachNamespace(ns, pos = pos, deps, exclude, include.only)\n . }, error = function(e) {\n .     P <- if (!is.null(cc <- conditionCall(e))) \n .         paste(\" in\", deparse(cc)[1L])\n .     else \"\"\n .     msg <- gettextf(\"package or namespace load failed for %s%s:\\n %s\", \n .         sQuote(package), P, conditionMessage(e))\n .     if (logical.return) \n .         message(paste(\"Error:\", msg), domain = NA)\n .     else stop(msg, call. = FALSE, domain = NA)\n . })",
      "3. tryCatchList(expr, classes, parentenv, handlers)",
      "4. tryCatchOne(expr, names, parentenv, handlers[[1L]])",
      "5. value[[3L]](cond)",
      "6. stop(msg, call. = FALSE, domain = NA)"
     ]
    }
   ],
   "source": [
    "library(readr)\n",
    "library(ggplot2)\n",
    "library(sqldf)\n",
    "library(RH2)\n",
    "library(lubridate)\n",
    "install.packages(\"tidyr\")\n",
    "library(tidyr)\n",
    "library(caret)\n",
    "library(dplyr)\n",
    "library(tidyverse)\n",
    "install.packages(\"scales\")\n",
    "library(scales)"
   ]
  },
  {
   "cell_type": "markdown",
   "metadata": {},
   "source": [
    "## Importing the necessary data:\n",
    "\n"
   ]
  },
  {
   "cell_type": "code",
   "execution_count": 80,
   "metadata": {},
   "outputs": [],
   "source": [
    "mobility <- read.csv(\"mobility_report_ZA.csv\") "
   ]
  },
  {
   "cell_type": "markdown",
   "metadata": {},
   "source": [
    "## Data Wrangling For Gauteng\n",
    "\n",
    "<br>\n",
    "\n",
    "Consider the mobility dataset. The mobility dataset is loaded into the object **mobility**.\n",
    "\n",
    "<br>\n",
    "\n",
    "Firstly we will look at only the data for Gauteng. I am doing this to decrease variability in the data sothat I can better find clusters.\n"
   ]
  },
  {
   "cell_type": "code",
   "execution_count": 166,
   "metadata": {},
   "outputs": [
    {
     "data": {
      "text/html": [
       "<table>\n",
       "<caption>A data.frame: 6 × 8</caption>\n",
       "<thead>\n",
       "\t<tr><th></th><th scope=col>province</th><th scope=col>date</th><th scope=col>retail.and.recreation</th><th scope=col>grocery.and.pharmacy</th><th scope=col>parks</th><th scope=col>transit.stations</th><th scope=col>workplaces</th><th scope=col>residential</th></tr>\n",
       "\t<tr><th></th><th scope=col>&lt;fct&gt;</th><th scope=col>&lt;fct&gt;</th><th scope=col>&lt;dbl&gt;</th><th scope=col>&lt;dbl&gt;</th><th scope=col>&lt;dbl&gt;</th><th scope=col>&lt;dbl&gt;</th><th scope=col>&lt;dbl&gt;</th><th scope=col>&lt;dbl&gt;</th></tr>\n",
       "</thead>\n",
       "<tbody>\n",
       "\t<tr><th scope=row>1</th><td>Gauteng</td><td>2020-02-15</td><td>  8</td><td>  0</td><td>25</td><td> 1</td><td>2</td><td>-3</td></tr>\n",
       "\t<tr><th scope=row>2</th><td>Gauteng</td><td>2020-02-16</td><td>  2</td><td> -1</td><td>10</td><td>-6</td><td>0</td><td> 0</td></tr>\n",
       "\t<tr><th scope=row>3</th><td>Gauteng</td><td>2020-02-17</td><td> -8</td><td> -8</td><td> 0</td><td> 3</td><td>5</td><td> 1</td></tr>\n",
       "\t<tr><th scope=row>4</th><td>Gauteng</td><td>2020-02-18</td><td>-10</td><td>-12</td><td> 1</td><td> 1</td><td>5</td><td> 1</td></tr>\n",
       "\t<tr><th scope=row>5</th><td>Gauteng</td><td>2020-02-19</td><td>-11</td><td>-12</td><td>-5</td><td>-1</td><td>4</td><td> 1</td></tr>\n",
       "\t<tr><th scope=row>6</th><td>Gauteng</td><td>2020-02-20</td><td> -2</td><td> -5</td><td> 1</td><td> 2</td><td>4</td><td>-1</td></tr>\n",
       "</tbody>\n",
       "</table>\n"
      ],
      "text/latex": [
       "A data.frame: 6 × 8\n",
       "\\begin{tabular}{r|llllllll}\n",
       "  & province & date & retail.and.recreation & grocery.and.pharmacy & parks & transit.stations & workplaces & residential\\\\\n",
       "  & <fct> & <fct> & <dbl> & <dbl> & <dbl> & <dbl> & <dbl> & <dbl>\\\\\n",
       "\\hline\n",
       "\t1 & Gauteng & 2020-02-15 &   8 &   0 & 25 &  1 & 2 & -3\\\\\n",
       "\t2 & Gauteng & 2020-02-16 &   2 &  -1 & 10 & -6 & 0 &  0\\\\\n",
       "\t3 & Gauteng & 2020-02-17 &  -8 &  -8 &  0 &  3 & 5 &  1\\\\\n",
       "\t4 & Gauteng & 2020-02-18 & -10 & -12 &  1 &  1 & 5 &  1\\\\\n",
       "\t5 & Gauteng & 2020-02-19 & -11 & -12 & -5 & -1 & 4 &  1\\\\\n",
       "\t6 & Gauteng & 2020-02-20 &  -2 &  -5 &  1 &  2 & 4 & -1\\\\\n",
       "\\end{tabular}\n"
      ],
      "text/markdown": [
       "\n",
       "A data.frame: 6 × 8\n",
       "\n",
       "| <!--/--> | province &lt;fct&gt; | date &lt;fct&gt; | retail.and.recreation &lt;dbl&gt; | grocery.and.pharmacy &lt;dbl&gt; | parks &lt;dbl&gt; | transit.stations &lt;dbl&gt; | workplaces &lt;dbl&gt; | residential &lt;dbl&gt; |\n",
       "|---|---|---|---|---|---|---|---|---|\n",
       "| 1 | Gauteng | 2020-02-15 |   8 |   0 | 25 |  1 | 2 | -3 |\n",
       "| 2 | Gauteng | 2020-02-16 |   2 |  -1 | 10 | -6 | 0 |  0 |\n",
       "| 3 | Gauteng | 2020-02-17 |  -8 |  -8 |  0 |  3 | 5 |  1 |\n",
       "| 4 | Gauteng | 2020-02-18 | -10 | -12 |  1 |  1 | 5 |  1 |\n",
       "| 5 | Gauteng | 2020-02-19 | -11 | -12 | -5 | -1 | 4 |  1 |\n",
       "| 6 | Gauteng | 2020-02-20 |  -2 |  -5 |  1 |  2 | 4 | -1 |\n",
       "\n"
      ],
      "text/plain": [
       "  province date       retail.and.recreation grocery.and.pharmacy parks\n",
       "1 Gauteng  2020-02-15   8                     0                  25   \n",
       "2 Gauteng  2020-02-16   2                    -1                  10   \n",
       "3 Gauteng  2020-02-17  -8                    -8                   0   \n",
       "4 Gauteng  2020-02-18 -10                   -12                   1   \n",
       "5 Gauteng  2020-02-19 -11                   -12                  -5   \n",
       "6 Gauteng  2020-02-20  -2                    -5                   1   \n",
       "  transit.stations workplaces residential\n",
       "1  1               2          -3         \n",
       "2 -6               0           0         \n",
       "3  3               5           1         \n",
       "4  1               5           1         \n",
       "5 -1               4           1         \n",
       "6  2               4          -1         "
      ]
     },
     "metadata": {},
     "output_type": "display_data"
    }
   ],
   "source": [
    "mobility_Gauteng <- sqldf(\"select *\n",
    "from mobility\n",
    "where province like '%Gauteng%'\n",
    "Order by date\")\n",
    "\n",
    "head(mobility_Gauteng)\n"
   ]
  },
  {
   "cell_type": "code",
   "execution_count": 155,
   "metadata": {},
   "outputs": [
    {
     "data": {
      "text/html": [
       "'data.frame'"
      ],
      "text/latex": [
       "'data.frame'"
      ],
      "text/markdown": [
       "'data.frame'"
      ],
      "text/plain": [
       "[1] \"data.frame\""
      ]
     },
     "metadata": {},
     "output_type": "display_data"
    },
    {
     "data": {
      "text/plain": [
       "          province           date     retail.and.recreation\n",
       " Gauteng      :220   2020-02-15:  1   Min.   :-81.00       \n",
       " Eastern Cape :  0   2020-02-16:  1   1st Qu.:-50.00       \n",
       " Free State   :  0   2020-02-17:  1   Median :-31.50       \n",
       " KwaZulu-Natal:  0   2020-02-18:  1   Mean   :-34.07       \n",
       " Limpopo      :  0   2020-02-19:  1   3rd Qu.:-20.75       \n",
       " Mpumalanga   :  0   2020-02-20:  1   Max.   : 24.00       \n",
       " (Other)      :  0   (Other)   :214   NA's   :36           \n",
       " grocery.and.pharmacy     parks        transit.stations   workplaces    \n",
       " Min.   :-61.00       Min.   :-68.00   Min.   :-85.00   Min.   :-87.00  \n",
       " 1st Qu.:-24.25       1st Qu.:-47.00   1st Qu.:-63.25   1st Qu.:-46.00  \n",
       " Median :-12.00       Median :-34.00   Median :-51.00   Median :-38.00  \n",
       " Mean   :-15.46       Mean   :-31.78   Mean   :-47.45   Mean   :-32.95  \n",
       " 3rd Qu.: -4.00       3rd Qu.:-18.00   3rd Qu.:-41.75   3rd Qu.: -9.75  \n",
       " Max.   : 68.00       Max.   : 25.00   Max.   : 21.00   Max.   :  9.00  \n",
       " NA's   :36           NA's   :36       NA's   :36                       \n",
       "  residential   \n",
       " Min.   :-4.00  \n",
       " 1st Qu.:12.00  \n",
       " Median :20.00  \n",
       " Mean   :19.15  \n",
       " 3rd Qu.:24.25  \n",
       " Max.   :48.00  \n",
       "                "
      ]
     },
     "metadata": {},
     "output_type": "display_data"
    },
    {
     "data": {
      "text/html": [
       "<style>\n",
       ".list-inline {list-style: none; margin:0; padding: 0}\n",
       ".list-inline>li {display: inline-block}\n",
       ".list-inline>li:not(:last-child)::after {content: \"\\00b7\"; padding: 0 .5ex}\n",
       "</style>\n",
       "<ol class=list-inline><li>'province'</li><li>'date'</li><li>'retail.and.recreation'</li><li>'grocery.and.pharmacy'</li><li>'parks'</li><li>'transit.stations'</li><li>'workplaces'</li><li>'residential'</li></ol>\n"
      ],
      "text/latex": [
       "\\begin{enumerate*}\n",
       "\\item 'province'\n",
       "\\item 'date'\n",
       "\\item 'retail.and.recreation'\n",
       "\\item 'grocery.and.pharmacy'\n",
       "\\item 'parks'\n",
       "\\item 'transit.stations'\n",
       "\\item 'workplaces'\n",
       "\\item 'residential'\n",
       "\\end{enumerate*}\n"
      ],
      "text/markdown": [
       "1. 'province'\n",
       "2. 'date'\n",
       "3. 'retail.and.recreation'\n",
       "4. 'grocery.and.pharmacy'\n",
       "5. 'parks'\n",
       "6. 'transit.stations'\n",
       "7. 'workplaces'\n",
       "8. 'residential'\n",
       "\n",
       "\n"
      ],
      "text/plain": [
       "[1] \"province\"              \"date\"                  \"retail.and.recreation\"\n",
       "[4] \"grocery.and.pharmacy\"  \"parks\"                 \"transit.stations\"     \n",
       "[7] \"workplaces\"            \"residential\"          "
      ]
     },
     "metadata": {},
     "output_type": "display_data"
    },
    {
     "data": {
      "image/png": "[encoded data removed]",
      "text/plain": [
       "plot without title"
      ]
     },
     "metadata": {
      "image/png": {
       "height": 420,
       "width": 420
      },
      "text/plain": {
       "height": 420,
       "width": 420
      }
     },
     "output_type": "display_data"
    },
    {
     "data": {
      "image/png": "[encoded data removed]",
      "text/plain": [
       "plot without title"
      ]
     },
     "metadata": {
      "image/png": {
       "height": 420,
       "width": 420
      },
      "text/plain": {
       "height": 420,
       "width": 420
      }
     },
     "output_type": "display_data"
    }
   ],
   "source": [
    "\n",
    "class(mobility_Gauteng)\n",
    "summary(mobility_Gauteng)\n",
    "names(mobility_Gauteng)\n",
    "\n",
    "boxplot(mobility_Gauteng$workplaces, horizontal=TRUE)\n",
    "boxplot(mobility_Gauteng$residential, horizontal=TRUE)\n",
    "\n"
   ]
  },
  {
   "cell_type": "markdown",
   "metadata": {},
   "source": [
    "## Findings:\n",
    "\n",
    "-There are no NA values in the workplaces and residential column.\n",
    "\n",
    "-Residential values are skewed to the right and there seems to be some outlier values. This might affect the accuracy of the output. \n",
    "\n",
    "-Workplaces values are skew to the left. Shows a disproportionate tendency in the data.\n"
   ]
  },
  {
   "cell_type": "markdown",
   "metadata": {},
   "source": [
    "### Plots of Gauteng Workplace and Residential daily percentage movement change since start of COVID-19 lockdown\n"
   ]
  },
  {
   "cell_type": "code",
   "execution_count": 61,
   "metadata": {},
   "outputs": [
    {
     "data": {
      "image/png": "[encoded data removed]",
      "text/plain": [
       "plot without title"
      ]
     },
     "metadata": {
      "image/png": {
       "height": 420,
       "width": 420
      },
      "text/plain": {
       "height": 420,
       "width": 420
      }
     },
     "output_type": "display_data"
    },
    {
     "data": {
      "image/png": "[encoded data removed]",
      "text/plain": [
       "plot without title"
      ]
     },
     "metadata": {
      "image/png": {
       "height": 420,
       "width": 420
      },
      "text/plain": {
       "height": 420,
       "width": 420
      }
     },
     "output_type": "display_data"
    }
   ],
   "source": [
    "ggplot(data = mobility_Gauteng, \n",
    "       mapping = aes(x =  date, \n",
    "                     y = workplaces)\n",
    "      ) + \n",
    "  geom_point() +\n",
    "  geom_line(aes(group=1),color='black')\n",
    "\n",
    "ggplot(data = mobility_Gauteng, \n",
    "       mapping = aes(x =  date, \n",
    "                     y = residential)\n",
    "      ) + \n",
    "  geom_point() +\n",
    "  geom_line(aes(group=1),color='red')\n"
   ]
  },
  {
   "cell_type": "markdown",
   "metadata": {},
   "source": [
    "## Graph explanation:\n",
    "-First (black) graph is the graph of Gauteng Workplace daily percentage movement change since start of COVID-19 lockdown.\n",
    "\n",
    "-Graph starts at 0% value on 15/02/2020. And moves to a negative region and stays there. The data hasnt normalised back to the basis start point of 0%.\n",
    "\n",
    "-\n",
    "    \n",
    "-Second (red) graph is the graph of Gauteng residential daily percentage movement change since start of COVID-19 lockdown.\n",
    "\n",
    "-Graph starts at 0% value on 15/02/2020. And moves to a positive region and stays there. The data hasnt normalised back to the basis start point of 0% as of yet."
   ]
  },
  {
   "cell_type": "markdown",
   "metadata": {},
   "source": [
    "## K-means Data morphing\n",
    "<br>\n",
    "<br>"
   ]
  },
  {
   "cell_type": "code",
   "execution_count": 167,
   "metadata": {},
   "outputs": [
    {
     "data": {
      "text/html": [
       "<table>\n",
       "<caption>A data.frame: 6 × 2</caption>\n",
       "<thead>\n",
       "\t<tr><th></th><th scope=col>residential</th><th scope=col>workplaces</th></tr>\n",
       "\t<tr><th></th><th scope=col>&lt;dbl&gt;</th><th scope=col>&lt;dbl&gt;</th></tr>\n",
       "</thead>\n",
       "<tbody>\n",
       "\t<tr><th scope=row>1</th><td>-3</td><td>2</td></tr>\n",
       "\t<tr><th scope=row>2</th><td> 0</td><td>0</td></tr>\n",
       "\t<tr><th scope=row>3</th><td> 1</td><td>5</td></tr>\n",
       "\t<tr><th scope=row>4</th><td> 1</td><td>5</td></tr>\n",
       "\t<tr><th scope=row>5</th><td> 1</td><td>4</td></tr>\n",
       "\t<tr><th scope=row>6</th><td>-1</td><td>4</td></tr>\n",
       "</tbody>\n",
       "</table>\n"
      ],
      "text/latex": [
       "A data.frame: 6 × 2\n",
       "\\begin{tabular}{r|ll}\n",
       "  & residential & workplaces\\\\\n",
       "  & <dbl> & <dbl>\\\\\n",
       "\\hline\n",
       "\t1 & -3 & 2\\\\\n",
       "\t2 &  0 & 0\\\\\n",
       "\t3 &  1 & 5\\\\\n",
       "\t4 &  1 & 5\\\\\n",
       "\t5 &  1 & 4\\\\\n",
       "\t6 & -1 & 4\\\\\n",
       "\\end{tabular}\n"
      ],
      "text/markdown": [
       "\n",
       "A data.frame: 6 × 2\n",
       "\n",
       "| <!--/--> | residential &lt;dbl&gt; | workplaces &lt;dbl&gt; |\n",
       "|---|---|---|\n",
       "| 1 | -3 | 2 |\n",
       "| 2 |  0 | 0 |\n",
       "| 3 |  1 | 5 |\n",
       "| 4 |  1 | 5 |\n",
       "| 5 |  1 | 4 |\n",
       "| 6 | -1 | 4 |\n",
       "\n"
      ],
      "text/plain": [
       "  residential workplaces\n",
       "1 -3          2         \n",
       "2  0          0         \n",
       "3  1          5         \n",
       "4  1          5         \n",
       "5  1          4         \n",
       "6 -1          4         "
      ]
     },
     "metadata": {},
     "output_type": "display_data"
    }
   ],
   "source": [
    "mobility_Kmeans_Gauteng<- sqldf(\"SELECT residential, workplaces\n",
    "FROM mobility\n",
    "where province like '%Gauteng%' \n",
    " Order by date\")\n",
    "\n",
    "head(mobility_Kmeans_Gauteng)"
   ]
  },
  {
   "cell_type": "code",
   "execution_count": 168,
   "metadata": {
    "scrolled": true
   },
   "outputs": [
    {
     "data": {
      "image/png": "[encoded data removed]",
      "text/plain": [
       "plot without title"
      ]
     },
     "metadata": {
      "image/png": {
       "height": 420,
       "width": 420
      },
      "text/plain": {
       "height": 420,
       "width": 420
      }
     },
     "output_type": "display_data"
    }
   ],
   "source": [
    "ggplot(mobility_Gauteng, aes(x=workplaces , y=residential ))+ geom_point()"
   ]
  },
  {
   "cell_type": "code",
   "execution_count": 169,
   "metadata": {},
   "outputs": [
    {
     "data": {
      "image/png": "[encoded data removed]",
      "text/plain": [
       "plot without title"
      ]
     },
     "metadata": {
      "image/png": {
       "height": 420,
       "width": 420
      },
      "text/plain": {
       "height": 420,
       "width": 420
      }
     },
     "output_type": "display_data"
    }
   ],
   "source": [
    "set.seed(71)\n",
    "k.max <- 10\n",
    "wss<- sapply(1:k.max,function(k){kmeans(mobility_Kmeans_Gauteng,k,nstart = 20,iter.max = 20)$tot.withinss}) #skree plot\n",
    "plot(1:k.max,wss, type= \"b\", xlab = \"Number of clusters(k)\",\n",
    "     ylab = \"Within cluster sum of squares\")"
   ]
  },
  {
   "cell_type": "markdown",
   "metadata": {},
   "source": [
    "### Cluster choice\n",
    "\n",
    "From the skree plot we can see from a K value of 6 there is deminishing preformance gains from choosing an higher value for K. The Skree plot displays diminshing margins of optimisation from a k value of 6. If any higher value is chosen there is a danger that we would be overfitting the model. The plot also shows 6 distinct groupings of the data. \n",
    "So a K value of 6 would be optimal."
   ]
  },
  {
   "cell_type": "markdown",
   "metadata": {},
   "source": [
    "### Applying the K-means Algorithm to mobility_Kmeans data\n",
    "<db>"
   ]
  },
  {
   "cell_type": "code",
   "execution_count": 170,
   "metadata": {},
   "outputs": [
    {
     "name": "stdout",
     "output_type": "stream",
     "text": [
      "K-means clustering with 6 clusters of sizes 31, 26, 41, 36, 58, 28\n",
      "\n",
      "Cluster means:\n",
      "  residential workplaces\n",
      "1  -0.3225806   4.516129\n",
      "2  28.5000000 -53.153846\n",
      "3  11.6585366  -9.268293\n",
      "4  16.3333333 -31.444444\n",
      "5  22.5000000 -40.586207\n",
      "6  39.7142857 -76.464286\n",
      "\n",
      "Clustering vector:\n",
      "  1   2   3   4   5   6   7   8   9  10  11  12  13  14  15  16  17  18  19  20 \n",
      "  1   1   1   1   1   1   1   1   1   1   1   1   1   1   1   1   1   1   1   1 \n",
      " 21  22  23  24  25  26  27  28  29  30  31  32  33  34  35  36  37  38  39  40 \n",
      "  1   1   1   1   1   1   1   1   1   1   1   3   3   3   3   3   3   4   4   4 \n",
      " 41  42  43  44  45  46  47  48  49  50  51  52  53  54  55  56  57  58  59  60 \n",
      "  4   6   2   2   6   6   6   6   6   2   5   6   6   6   6   6   2   2   6   6 \n",
      " 61  62  63  64  65  66  67  68  69  70  71  72  73  74  75  76  77  78  79  80 \n",
      "  6   6   6   2   5   6   6   6   6   6   2   5   6   6   6   6   6   5   4   2 \n",
      " 81  82  83  84  85  86  87  88  89  90  91  92  93  94  95  96  97  98  99 100 \n",
      "  2   2   2   2   4   4   2   2   2   2   2   4   4   2   2   2   2   2   4   3 \n",
      "101 102 103 104 105 106 107 108 109 110 111 112 113 114 115 116 117 118 119 120 \n",
      "  2   2   2   2   5   3   3   5   5   5   5   5   3   3   5   5   5   5   5   3 \n",
      "121 122 123 124 125 126 127 128 129 130 131 132 133 134 135 136 137 138 139 140 \n",
      "  3   5   6   5   5   5   3   3   5   5   5   5   5   3   3   5   5   5   5   5 \n",
      "141 142 143 144 145 146 147 148 149 150 151 152 153 154 155 156 157 158 159 160 \n",
      "  3   3   5   5   5   5   5   3   3   5   5   5   5   5   3   3   5   5   5   5 \n",
      "161 162 163 164 165 166 167 168 169 170 171 172 173 174 175 176 177 178 179 180 \n",
      "  5   3   3   5   5   5   5   5   3   3   5   5   5   5   5   3   3   6   5   5 \n",
      "181 182 183 184 185 186 187 188 189 190 191 192 193 194 195 196 197 198 199 200 \n",
      "  5   4   3   3   5   4   4   4   4   3   3   4   4   4   4   4   3   3   4   4 \n",
      "201 202 203 204 205 206 207 208 209 210 211 212 213 214 215 216 217 218 219 220 \n",
      "  4   4   4   3   3   4   4   4   4   4   3   3   4   4   4   4   4   3   3   4 \n",
      "\n",
      "Within cluster sum of squares by cluster:\n",
      "[1]  280.5161  361.8846 1007.2683  850.8889  356.5690  828.6786\n",
      " (between_SS / total_SS =  97.8 %)\n",
      "\n",
      "Available components:\n",
      "\n",
      "[1] \"cluster\"      \"centers\"      \"totss\"        \"withinss\"     \"tot.withinss\"\n",
      "[6] \"betweenss\"    \"size\"         \"iter\"         \"ifault\"      \n"
     ]
    }
   ],
   "source": [
    "set.seed(21)\n",
    "k_means1 <- kmeans(mobility_Kmeans_Gauteng, centers = 6, nstart = 20)\n",
    "print(k_means1)\n"
   ]
  },
  {
   "cell_type": "code",
   "execution_count": 171,
   "metadata": {},
   "outputs": [
    {
     "data": {
      "image/png": "[encoded data removed]",
      "text/plain": [
       "plot without title"
      ]
     },
     "metadata": {
      "image/png": {
       "height": 420,
       "width": 420
      },
      "text/plain": {
       "height": 420,
       "width": 420
      }
     },
     "output_type": "display_data"
    }
   ],
   "source": [
    "plot(mobility_Kmeans_Gauteng, col=k_means1$cluster)\n",
    "points(k_means1$centers[,c(\"residential\", \"workplaces\")], col=10:40, pch=15, cex=3)"
   ]
  },
  {
   "cell_type": "markdown",
   "metadata": {},
   "source": [
    "### Interpretation\n",
    "\n",
    "<br>\n",
    "\n",
    "Essentially, between_SS measures the variation between all clusters. The larger the between_SS value is the higher percentage the (between_SS / total_SS =  97.8  %) metric will have. So here we can see that the model is quite accurate with a score of 97.8 %. This means that between_SS is a large value. This means that the clusters are far separatd from eachother and that the model predicted the classes well. "
   ]
  },
  {
   "cell_type": "markdown",
   "metadata": {},
   "source": [
    "The K-means program found 6 clusters in Gauteng when we look at residential movement vs workplaces movement. We can also see that there is a negative linear relationship between residential and workplaces movements. So people in Gauteng usually have work places that are separate from residential places. Also from the prior graphes we can see that there hase been a clear separation of residential(+) and workplaces(-) from the basis point of 0% on 15/02/2020. This shows that there has been more of a movement away from traditional workplaces and more people are at home as expected. There seems to have occured a fundamental shift in how people move in the economy due to COVID in Gauteng. This might be to a rise in unemplyment or just the lockdown level changing over time. The most interesting thing in this data is the fact that there are these 6 clusters. These clusters are more localised to the top left of the graph(this is some sort of indication of a trend or pattern). This shows that there is a tendency in Gauteng for economic activity to recover because there is more of a shift for residential and workplaces movement to the basis of 0% change. If there will be a move to 0%, only  time and more data will tell but it is clear that the severity of movement away from work is greater than the movement to residential areas."
   ]
  },
  {
   "cell_type": "markdown",
   "metadata": {},
   "source": [
    "<db>\n",
    "    \n",
    "<db>\n",
    "    \n",
    "<db>"
   ]
  },
  {
   "cell_type": "markdown",
   "metadata": {},
   "source": [
    "## Data Wrangling For Western Cape\n",
    "\n",
    "<br>\n",
    "\n",
    "Consider the mobility dataset. The mobility dataset is loaded into the object **mobility**.\n",
    "\n",
    "<br>\n",
    "\n",
    " We will now look at only the data for Western Cape. \n"
   ]
  },
  {
   "cell_type": "code",
   "execution_count": 172,
   "metadata": {},
   "outputs": [
    {
     "data": {
      "text/html": [
       "<table>\n",
       "<caption>A data.frame: 6 × 8</caption>\n",
       "<thead>\n",
       "\t<tr><th></th><th scope=col>province</th><th scope=col>date</th><th scope=col>retail.and.recreation</th><th scope=col>grocery.and.pharmacy</th><th scope=col>parks</th><th scope=col>transit.stations</th><th scope=col>workplaces</th><th scope=col>residential</th></tr>\n",
       "\t<tr><th></th><th scope=col>&lt;fct&gt;</th><th scope=col>&lt;fct&gt;</th><th scope=col>&lt;dbl&gt;</th><th scope=col>&lt;dbl&gt;</th><th scope=col>&lt;dbl&gt;</th><th scope=col>&lt;dbl&gt;</th><th scope=col>&lt;dbl&gt;</th><th scope=col>&lt;dbl&gt;</th></tr>\n",
       "</thead>\n",
       "<tbody>\n",
       "\t<tr><th scope=row>1</th><td>Western Cape</td><td>2020-02-15</td><td> -2</td><td> -1</td><td>  4</td><td>-3</td><td> 0</td><td>-1</td></tr>\n",
       "\t<tr><th scope=row>2</th><td>Western Cape</td><td>2020-02-16</td><td> -9</td><td> -2</td><td>-25</td><td>-7</td><td>-2</td><td>-1</td></tr>\n",
       "\t<tr><th scope=row>3</th><td>Western Cape</td><td>2020-02-17</td><td>-10</td><td> -9</td><td>-15</td><td> 5</td><td> 4</td><td> 0</td></tr>\n",
       "\t<tr><th scope=row>4</th><td>Western Cape</td><td>2020-02-18</td><td>-10</td><td>-11</td><td> -4</td><td> 4</td><td> 4</td><td> 0</td></tr>\n",
       "\t<tr><th scope=row>5</th><td>Western Cape</td><td>2020-02-19</td><td> -9</td><td> -9</td><td>  7</td><td> 3</td><td> 4</td><td>-1</td></tr>\n",
       "\t<tr><th scope=row>6</th><td>Western Cape</td><td>2020-02-20</td><td> -7</td><td> -7</td><td>  0</td><td> 3</td><td> 3</td><td>-1</td></tr>\n",
       "</tbody>\n",
       "</table>\n"
      ],
      "text/latex": [
       "A data.frame: 6 × 8\n",
       "\\begin{tabular}{r|llllllll}\n",
       "  & province & date & retail.and.recreation & grocery.and.pharmacy & parks & transit.stations & workplaces & residential\\\\\n",
       "  & <fct> & <fct> & <dbl> & <dbl> & <dbl> & <dbl> & <dbl> & <dbl>\\\\\n",
       "\\hline\n",
       "\t1 & Western Cape & 2020-02-15 &  -2 &  -1 &   4 & -3 &  0 & -1\\\\\n",
       "\t2 & Western Cape & 2020-02-16 &  -9 &  -2 & -25 & -7 & -2 & -1\\\\\n",
       "\t3 & Western Cape & 2020-02-17 & -10 &  -9 & -15 &  5 &  4 &  0\\\\\n",
       "\t4 & Western Cape & 2020-02-18 & -10 & -11 &  -4 &  4 &  4 &  0\\\\\n",
       "\t5 & Western Cape & 2020-02-19 &  -9 &  -9 &   7 &  3 &  4 & -1\\\\\n",
       "\t6 & Western Cape & 2020-02-20 &  -7 &  -7 &   0 &  3 &  3 & -1\\\\\n",
       "\\end{tabular}\n"
      ],
      "text/markdown": [
       "\n",
       "A data.frame: 6 × 8\n",
       "\n",
       "| <!--/--> | province &lt;fct&gt; | date &lt;fct&gt; | retail.and.recreation &lt;dbl&gt; | grocery.and.pharmacy &lt;dbl&gt; | parks &lt;dbl&gt; | transit.stations &lt;dbl&gt; | workplaces &lt;dbl&gt; | residential &lt;dbl&gt; |\n",
       "|---|---|---|---|---|---|---|---|---|\n",
       "| 1 | Western Cape | 2020-02-15 |  -2 |  -1 |   4 | -3 |  0 | -1 |\n",
       "| 2 | Western Cape | 2020-02-16 |  -9 |  -2 | -25 | -7 | -2 | -1 |\n",
       "| 3 | Western Cape | 2020-02-17 | -10 |  -9 | -15 |  5 |  4 |  0 |\n",
       "| 4 | Western Cape | 2020-02-18 | -10 | -11 |  -4 |  4 |  4 |  0 |\n",
       "| 5 | Western Cape | 2020-02-19 |  -9 |  -9 |   7 |  3 |  4 | -1 |\n",
       "| 6 | Western Cape | 2020-02-20 |  -7 |  -7 |   0 |  3 |  3 | -1 |\n",
       "\n"
      ],
      "text/plain": [
       "  province     date       retail.and.recreation grocery.and.pharmacy parks\n",
       "1 Western Cape 2020-02-15  -2                    -1                    4  \n",
       "2 Western Cape 2020-02-16  -9                    -2                  -25  \n",
       "3 Western Cape 2020-02-17 -10                    -9                  -15  \n",
       "4 Western Cape 2020-02-18 -10                   -11                   -4  \n",
       "5 Western Cape 2020-02-19  -9                    -9                    7  \n",
       "6 Western Cape 2020-02-20  -7                    -7                    0  \n",
       "  transit.stations workplaces residential\n",
       "1 -3                0         -1         \n",
       "2 -7               -2         -1         \n",
       "3  5                4          0         \n",
       "4  4                4          0         \n",
       "5  3                4         -1         \n",
       "6  3                3         -1         "
      ]
     },
     "metadata": {},
     "output_type": "display_data"
    },
    {
     "data": {
      "text/html": [
       "'data.frame'"
      ],
      "text/latex": [
       "'data.frame'"
      ],
      "text/markdown": [
       "'data.frame'"
      ],
      "text/plain": [
       "[1] \"data.frame\""
      ]
     },
     "metadata": {},
     "output_type": "display_data"
    },
    {
     "data": {
      "text/plain": [
       "          province           date     retail.and.recreation\n",
       " Western Cape :220   2020-02-15:  1   Min.   :-86.00       \n",
       " Eastern Cape :  0   2020-02-16:  1   1st Qu.:-60.00       \n",
       " Free State   :  0   2020-02-17:  1   Median :-43.00       \n",
       " Gauteng      :  0   2020-02-18:  1   Mean   :-42.77       \n",
       " KwaZulu-Natal:  0   2020-02-19:  1   3rd Qu.:-31.00       \n",
       " Limpopo      :  0   2020-02-20:  1   Max.   : 13.00       \n",
       " (Other)      :  0   (Other)   :214   NA's   :36           \n",
       " grocery.and.pharmacy     parks        transit.stations   workplaces    \n",
       " Min.   :-67.00       Min.   :-87.00   Min.   :-89.00   Min.   :-88.00  \n",
       " 1st Qu.:-34.00       1st Qu.:-72.00   1st Qu.:-73.00   1st Qu.:-51.25  \n",
       " Median :-22.00       Median :-49.00   Median :-63.00   Median :-38.00  \n",
       " Mean   :-22.75       Mean   :-47.62   Mean   :-55.23   Mean   :-35.73  \n",
       " 3rd Qu.:-11.00       3rd Qu.:-30.00   3rd Qu.:-56.00   3rd Qu.:-18.00  \n",
       " Max.   : 60.00       Max.   :  8.00   Max.   : 14.00   Max.   :  8.00  \n",
       " NA's   :36           NA's   :36       NA's   :36                       \n",
       "  residential   \n",
       " Min.   :-5.00  \n",
       " 1st Qu.:11.00  \n",
       " Median :18.00  \n",
       " Mean   :17.46  \n",
       " 3rd Qu.:23.50  \n",
       " Max.   :44.00  \n",
       "                "
      ]
     },
     "metadata": {},
     "output_type": "display_data"
    },
    {
     "data": {
      "text/html": [
       "<style>\n",
       ".list-inline {list-style: none; margin:0; padding: 0}\n",
       ".list-inline>li {display: inline-block}\n",
       ".list-inline>li:not(:last-child)::after {content: \"\\00b7\"; padding: 0 .5ex}\n",
       "</style>\n",
       "<ol class=list-inline><li>'province'</li><li>'date'</li><li>'retail.and.recreation'</li><li>'grocery.and.pharmacy'</li><li>'parks'</li><li>'transit.stations'</li><li>'workplaces'</li><li>'residential'</li></ol>\n"
      ],
      "text/latex": [
       "\\begin{enumerate*}\n",
       "\\item 'province'\n",
       "\\item 'date'\n",
       "\\item 'retail.and.recreation'\n",
       "\\item 'grocery.and.pharmacy'\n",
       "\\item 'parks'\n",
       "\\item 'transit.stations'\n",
       "\\item 'workplaces'\n",
       "\\item 'residential'\n",
       "\\end{enumerate*}\n"
      ],
      "text/markdown": [
       "1. 'province'\n",
       "2. 'date'\n",
       "3. 'retail.and.recreation'\n",
       "4. 'grocery.and.pharmacy'\n",
       "5. 'parks'\n",
       "6. 'transit.stations'\n",
       "7. 'workplaces'\n",
       "8. 'residential'\n",
       "\n",
       "\n"
      ],
      "text/plain": [
       "[1] \"province\"              \"date\"                  \"retail.and.recreation\"\n",
       "[4] \"grocery.and.pharmacy\"  \"parks\"                 \"transit.stations\"     \n",
       "[7] \"workplaces\"            \"residential\"          "
      ]
     },
     "metadata": {},
     "output_type": "display_data"
    },
    {
     "data": {
      "image/png": "[encoded data removed]",
      "text/plain": [
       "plot without title"
      ]
     },
     "metadata": {
      "image/png": {
       "height": 420,
       "width": 420
      },
      "text/plain": {
       "height": 420,
       "width": 420
      }
     },
     "output_type": "display_data"
    },
    {
     "data": {
      "image/png": "[encoded data removed]",
      "text/plain": [
       "plot without title"
      ]
     },
     "metadata": {
      "image/png": {
       "height": 420,
       "width": 420
      },
      "text/plain": {
       "height": 420,
       "width": 420
      }
     },
     "output_type": "display_data"
    }
   ],
   "source": [
    "mobility_western_cape<- sqldf(\"select *\n",
    "from mobility\n",
    "where province like '%Western Cape%'\n",
    "order by date\")\n",
    "head(mobility_western_cape)\n",
    "\n",
    "\n",
    "class(mobility_western_cape)\n",
    "summary(mobility_western_cape)\n",
    "names(mobility_western_cape)\n",
    "\n",
    "boxplot(mobility_western_cape$workplaces, horizontal=TRUE)\n",
    "boxplot(mobility_western_cape$residential, horizontal=TRUE)"
   ]
  },
  {
   "cell_type": "markdown",
   "metadata": {},
   "source": [
    "### Plots of Western Cape Workplace and Residential daily percentage movement change since start of COVID-19 lockdown "
   ]
  },
  {
   "cell_type": "code",
   "execution_count": 157,
   "metadata": {},
   "outputs": [
    {
     "data": {
      "image/png": "[encoded data removed]",
      "text/plain": [
       "plot without title"
      ]
     },
     "metadata": {
      "image/png": {
       "height": 420,
       "width": 420
      },
      "text/plain": {
       "height": 420,
       "width": 420
      }
     },
     "output_type": "display_data"
    },
    {
     "data": {
      "image/png": "[encoded data removed]",
      "text/plain": [
       "plot without title"
      ]
     },
     "metadata": {
      "image/png": {
       "height": 420,
       "width": 420
      },
      "text/plain": {
       "height": 420,
       "width": 420
      }
     },
     "output_type": "display_data"
    }
   ],
   "source": [
    "ggplot(data = mobility_western_cape, \n",
    "       mapping = aes(x =  date, \n",
    "                     y = workplaces)\n",
    "      ) + \n",
    "  geom_point() +\n",
    "  geom_line(aes(group=1),color='blue')\n",
    "\n",
    "ggplot(data = mobility_western_cape, \n",
    "       mapping = aes(x =  date, \n",
    "                     y = residential)\n",
    "      ) + \n",
    "  geom_point() +\n",
    "  geom_line(aes(group=1),color='green')\n"
   ]
  },
  {
   "cell_type": "code",
   "execution_count": 158,
   "metadata": {},
   "outputs": [
    {
     "data": {
      "image/png": "[encoded data removed]",
      "text/plain": [
       "plot without title"
      ]
     },
     "metadata": {
      "image/png": {
       "height": 420,
       "width": 420
      },
      "text/plain": {
       "height": 420,
       "width": 420
      }
     },
     "output_type": "display_data"
    }
   ],
   "source": [
    "ggplot(mobility_western_cape, aes(x=workplaces , y=residential ))+ geom_point()"
   ]
  },
  {
   "cell_type": "markdown",
   "metadata": {},
   "source": [
    "### Western Cape K-means Data set "
   ]
  },
  {
   "cell_type": "code",
   "execution_count": 160,
   "metadata": {},
   "outputs": [
    {
     "data": {
      "text/html": [
       "<table>\n",
       "<caption>A data.frame: 6 × 2</caption>\n",
       "<thead>\n",
       "\t<tr><th></th><th scope=col>residential</th><th scope=col>workplaces</th></tr>\n",
       "\t<tr><th></th><th scope=col>&lt;dbl&gt;</th><th scope=col>&lt;dbl&gt;</th></tr>\n",
       "</thead>\n",
       "<tbody>\n",
       "\t<tr><th scope=row>1</th><td>-1</td><td> 0</td></tr>\n",
       "\t<tr><th scope=row>2</th><td>-1</td><td>-2</td></tr>\n",
       "\t<tr><th scope=row>3</th><td> 0</td><td> 4</td></tr>\n",
       "\t<tr><th scope=row>4</th><td> 0</td><td> 4</td></tr>\n",
       "\t<tr><th scope=row>5</th><td>-1</td><td> 4</td></tr>\n",
       "\t<tr><th scope=row>6</th><td>-1</td><td> 3</td></tr>\n",
       "</tbody>\n",
       "</table>\n"
      ],
      "text/latex": [
       "A data.frame: 6 × 2\n",
       "\\begin{tabular}{r|ll}\n",
       "  & residential & workplaces\\\\\n",
       "  & <dbl> & <dbl>\\\\\n",
       "\\hline\n",
       "\t1 & -1 &  0\\\\\n",
       "\t2 & -1 & -2\\\\\n",
       "\t3 &  0 &  4\\\\\n",
       "\t4 &  0 &  4\\\\\n",
       "\t5 & -1 &  4\\\\\n",
       "\t6 & -1 &  3\\\\\n",
       "\\end{tabular}\n"
      ],
      "text/markdown": [
       "\n",
       "A data.frame: 6 × 2\n",
       "\n",
       "| <!--/--> | residential &lt;dbl&gt; | workplaces &lt;dbl&gt; |\n",
       "|---|---|---|\n",
       "| 1 | -1 |  0 |\n",
       "| 2 | -1 | -2 |\n",
       "| 3 |  0 |  4 |\n",
       "| 4 |  0 |  4 |\n",
       "| 5 | -1 |  4 |\n",
       "| 6 | -1 |  3 |\n",
       "\n"
      ],
      "text/plain": [
       "  residential workplaces\n",
       "1 -1           0        \n",
       "2 -1          -2        \n",
       "3  0           4        \n",
       "4  0           4        \n",
       "5 -1           4        \n",
       "6 -1           3        "
      ]
     },
     "metadata": {},
     "output_type": "display_data"
    }
   ],
   "source": [
    "mobility_Kmeans_Western_Cape<- sqldf(\"SELECT residential, workplaces\n",
    "FROM mobility\n",
    "where province like '%Western Cape%' \n",
    "Order by date\")\n",
    "\n",
    "head(mobility_Kmeans_Western_Cape)"
   ]
  },
  {
   "cell_type": "code",
   "execution_count": 161,
   "metadata": {},
   "outputs": [
    {
     "data": {
      "image/png": "[encoded data removed]",
      "text/plain": [
       "plot without title"
      ]
     },
     "metadata": {
      "image/png": {
       "height": 420,
       "width": 420
      },
      "text/plain": {
       "height": 420,
       "width": 420
      }
     },
     "output_type": "display_data"
    }
   ],
   "source": [
    "\n",
    "k.max <- 15\n",
    "wss<- sapply(1:k.max,function(k){kmeans(mobility_Kmeans_Western_Cape,k,nstart = 20,iter.max = 20)$tot.withinss})\n",
    "plot(1:k.max,wss, type= \"b\", xlab = \"Number of clusters(k)\",\n",
    "     ylab = \"Within cluster sum of squares\")"
   ]
  },
  {
   "cell_type": "markdown",
   "metadata": {},
   "source": [
    "#### Using a 5 cluster centroid on the data seems optimal.  \n",
    "\n"
   ]
  },
  {
   "cell_type": "code",
   "execution_count": 162,
   "metadata": {},
   "outputs": [
    {
     "name": "stdout",
     "output_type": "stream",
     "text": [
      "K-means clustering with 5 clusters of sizes 28, 32, 30, 42, 88\n",
      "\n",
      "Cluster means:\n",
      "  residential workplaces\n",
      "1    36.14286  -76.03571\n",
      "2    -0.62500    3.43750\n",
      "3    26.73333  -56.00000\n",
      "4    11.26190  -18.76190\n",
      "5    17.88636  -38.34091\n",
      "\n",
      "Clustering vector:\n",
      "  1   2   3   4   5   6   7   8   9  10  11  12  13  14  15  16  17  18  19  20 \n",
      "  2   2   2   2   2   2   2   2   2   2   2   2   2   2   2   2   2   2   2   2 \n",
      " 21  22  23  24  25  26  27  28  29  30  31  32  33  34  35  36  37  38  39  40 \n",
      "  2   2   2   2   2   2   2   2   2   2   2   2   4   4   4   4   4   4   4   4 \n",
      " 41  42  43  44  45  46  47  48  49  50  51  52  53  54  55  56  57  58  59  60 \n",
      "  5   1   3   3   1   1   1   1   1   3   3   1   1   1   1   1   3   3   1   1 \n",
      " 61  62  63  64  65  66  67  68  69  70  71  72  73  74  75  76  77  78  79  80 \n",
      "  1   1   1   3   3   1   1   1   1   1   3   3   1   1   1   1   1   5   5   3 \n",
      " 81  82  83  84  85  86  87  88  89  90  91  92  93  94  95  96  97  98  99 100 \n",
      "  3   3   3   3   5   5   3   3   3   3   3   5   5   3   3   3   3   3   5   5 \n",
      "101 102 103 104 105 106 107 108 109 110 111 112 113 114 115 116 117 118 119 120 \n",
      "  3   3   3   3   3   4   4   5   5   5   5   5   4   4   5   5   5   5   5   4 \n",
      "121 122 123 124 125 126 127 128 129 130 131 132 133 134 135 136 137 138 139 140 \n",
      "  4   5   1   5   5   5   4   4   5   5   5   5   5   4   4   5   5   5   5   5 \n",
      "141 142 143 144 145 146 147 148 149 150 151 152 153 154 155 156 157 158 159 160 \n",
      "  4   4   5   5   5   5   5   4   4   5   5   5   5   5   4   4   5   5   5   5 \n",
      "161 162 163 164 165 166 167 168 169 170 171 172 173 174 175 176 177 178 179 180 \n",
      "  5   4   4   5   5   5   5   5   4   4   5   5   5   5   5   4   4   1   5   5 \n",
      "181 182 183 184 185 186 187 188 189 190 191 192 193 194 195 196 197 198 199 200 \n",
      "  5   5   4   4   5   5   5   5   5   4   4   5   5   5   5   5   4   4   5   5 \n",
      "201 202 203 204 205 206 207 208 209 210 211 212 213 214 215 216 217 218 219 220 \n",
      "  5   5   5   4   4   5   5   5   5   5   4   4   5   5   5   5   5   4   4   5 \n",
      "\n",
      "Within cluster sum of squares by cluster:\n",
      "[1]  862.3929  431.3750  571.8667  961.7381 2312.6364\n",
      " (between_SS / total_SS =  96.6 %)\n",
      "\n",
      "Available components:\n",
      "\n",
      "[1] \"cluster\"      \"centers\"      \"totss\"        \"withinss\"     \"tot.withinss\"\n",
      "[6] \"betweenss\"    \"size\"         \"iter\"         \"ifault\"      \n"
     ]
    }
   ],
   "source": [
    "set.seed(72)\n",
    "k_means2 <- kmeans(mobility_Kmeans_Western_Cape, centers = 5, nstart = 20)\n",
    "print(k_means2)"
   ]
  },
  {
   "cell_type": "code",
   "execution_count": 163,
   "metadata": {},
   "outputs": [
    {
     "data": {
      "image/png": "[encoded data removed]",
      "text/plain": [
       "plot without title"
      ]
     },
     "metadata": {
      "image/png": {
       "height": 420,
       "width": 420
      },
      "text/plain": {
       "height": 420,
       "width": 420
      }
     },
     "output_type": "display_data"
    }
   ],
   "source": [
    "plot(mobility_Kmeans_Western_Cape, col=k_means2$cluster)\n",
    "points(k_means2$centers[,c(\"residential\", \"workplaces\")], col=1:3, pch=17, cex=2)"
   ]
  },
  {
   "cell_type": "markdown",
   "metadata": {},
   "source": [
    "### Interpretation\n",
    "\n",
    "Essentially, between_SS measures the variation between all clusters. The larger the between_SS value is the higher percentage the (between_SS / total_SS =  96.6 %) metric will have. So here we can see that the model is quite accurate with a score of 96.6 %. This means that between_SS is a large value. This means that the clusters are far separatd from eachother and that the model predicted the classes well."
   ]
  },
  {
   "cell_type": "markdown",
   "metadata": {},
   "source": [
    "The K-means program found 5 clusters in Western Cape when we look at residential movement vs workplaces movement. We can also see that there is more of a negative linear relationship between residential and workplaces movements in this province. So people in Western Cape usually have work places that are  more separated from residential places or the Western Cape has had more severe lockdowns. Also from the prior graphes we can see that there hase been a clear separation of residential(+) and workplaces(-) from the basis point of 0% on 15/02/2020 similar to the trend in Gauteng. This shows that there has been more of a movement away from traditional workplaces and more people are at home. This might be to a rise in unemplyment or just the lockdown level changing over time from level 5 to level 1. The most interesting thing in this data is that the Western Cape clearly has 5 clusters, which is less than Gauteng. These clusters are more evenly distributed and the majority of the data points lie in the center(this is some sort of indication of a trend or pattern). This shows that there is a tendency in Western Cape for economic activity to change more due to COVID because there is more of a centralisation around +20% to 10% change for residential and around -20% to -40% change in workplaces movement. The Western Cape seems to be in a slower recovery."
   ]
  },
  {
   "cell_type": "markdown",
   "metadata": {},
   "source": [
    "### Relating the finding Between Gauteng and Western Cape \n",
    "\n",
    "It seems that because of the cluster placement differences and cluster value differences as stated before , that the Western Cape is on a slower recovery path when it comes to workplace movement normalising vs Gauteng's more near 0% change in movement data. The reasons for this isnt clear and further investigations are needed to determine causality. Looking to the future , this data can help us reach some logical conclusions about future economic implications"
   ]
  },
  {
   "cell_type": "markdown",
   "metadata": {},
   "source": [
    "# Conclusion\n",
    "\n",
    "From stated above it seems that different parts of the country's population reacts differntly to the impact of COVID on their professional lives. This has lead to the conclusion of 2 possible cases. \n",
    "\n",
    "Case 1: The Western Cape has a slower economic recovery and will experience more of a prolonged negative Economic impact. This might lead to prolonged unemployment there and changes in wealth distributions in the population and even changes in property prices when one looks at business developments that might have less demand and more of a demand for residential dwelings. People are not returning to work as much as in Gauteng. Gauteng has still been hit hard but there seems to be more of a trend to the basis of 0% movement like back in 15/02/2020.\n",
    "\n",
    "Case 2: The Western Cape could easily implement a work from home scheme because the Western Cape is not as industrially focused as Gauteng. The Western Cape has more of a tech/service based structure that is more decentralised vs the needed centralised industrial work structures like in Gauteng. \n",
    "\n",
    "From this one can make 2 predictions. \n",
    "\n",
    "Prediction 1: Gauteng will recover faster than the Western Cape from COVID in an economic sense.\n",
    "\n",
    "Prediction 2: The Western Cape has more of a distributed resiliant network structure to their economy. So the Western Cape will be better positioned to handle economic shocks of the COVID nature in the future.\n",
    "\n",
    "It is clear that there seems to be interesting clusters in the data that K-means identified. There are patterns to be identified and frameworks that could be formulated from this. This can help us better understand the impact of pandemics sothat we can build solutions or make better predictions in times of uncertainty. More investigation is needed on these trends."
   ]
  }
 ],
 "metadata": {
  "kernelspec": {
   "display_name": "R",
   "language": "R",
   "name": "ir"
  },
  "language_info": {
   "codemirror_mode": "r",
   "file_extension": ".r",
   "mimetype": "text/x-r-source",
   "name": "R",
   "pygments_lexer": "r",
   "version": "3.6.1"
  }
 },
 "nbformat": 4,
 "nbformat_minor": 2
}
