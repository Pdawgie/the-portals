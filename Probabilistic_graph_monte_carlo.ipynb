{
  "nbformat": 4,
  "nbformat_minor": 0,
  "metadata": {
    "colab": {
      "name": "Untitled1.ipynb",
      "provenance": [],
      "authorship_tag": "ABX9TyNA/epgsI++bdFvcVFbhxHl",
      "include_colab_link": true
    },
    "kernelspec": {
      "name": "python3",
      "display_name": "Python 3"
    },
    "language_info": {
      "name": "python"
    }
  },
  "cells": [
    {
      "cell_type": "markdown",
      "metadata": {
        "id": "view-in-github",
        "colab_type": "text"
      },
      "source": [
        "<a href=\"https://colab.research.google.com/github/Pdawgie/the-portals/blob/master/Probabilistic_graph_monte_carlo.ipynb\" target=\"_parent\"><img src=\"https://colab.research.google.com/assets/colab-badge.svg\" alt=\"Open In Colab\"/></a>"
      ]
    },
    {
      "cell_type": "code",
      "execution_count": 1,
      "metadata": {
        "id": "l2Rs6IheShUZ"
      },
      "outputs": [],
      "source": [
        "import networkx as nx\n",
        "\n",
        "import matplotlib.pyplot as plt\n",
        "\n",
        "import seaborn as sns\n",
        "\n",
        "import numpy as np"
      ]
    },
    {
      "cell_type": "code",
      "source": [
        "# erdos_renyi_graph\n",
        "\n",
        "\n",
        "ls=[]\n",
        "for i in range(1000):\n",
        "    p=np.random.uniform(0,1)\n",
        "    g=nx.fast_gnp_random_graph(30,p)\n",
        "    ktz=nx.average_node_connectivity(g)\n",
        "    ls.append(ktz)\n",
        "\n",
        "\n",
        "# print(w\n",
        "\n",
        "print(ls)\n",
        "\n",
        "sns.distplot(ls)\n",
        "\n",
        "\n",
        "# # plt.figure(figsize=(12, 12))\n",
        "# p=np.random.uniform(0,1)\n",
        "# g=nx.fast_gnp_random_graph(15,p)\n",
        "# f=nx.power(g,1)\n",
        "# print(f)\n",
        "# nx.draw_networkx(g)"
      ],
      "metadata": {
        "id": "eC3LMHpjSqpm"
      },
      "execution_count": null,
      "outputs": []
    }
  ]
}