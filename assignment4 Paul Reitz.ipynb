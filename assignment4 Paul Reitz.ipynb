{
 "cells": [
  {
   "cell_type": "code",
   "execution_count": 111,
   "metadata": {
    "deletable": false,
    "editable": false
   },
   "outputs": [],
   "source": [
    "# Initialize Otter\n",
    "import otter\n",
    "grader = otter.Notebook(\"assignment4.ipynb\")"
   ]
  },
  {
   "cell_type": "markdown",
   "metadata": {},
   "source": [
    "# STK353 Assignemnt 4\n",
    "\n",
    "Total marks: 14\n",
    "\n",
    "## Instructions: \n",
    "    \n",
    "   - Complete all questions \n",
    "   - remember to restart your kernel and run all cells before submitting.\n",
    "   - Submit only the `ipynb` file | No need to rename it."
   ]
  },
  {
   "cell_type": "markdown",
   "metadata": {},
   "source": [
    "## Load the required packages"
   ]
  },
  {
   "cell_type": "code",
   "execution_count": 112,
   "metadata": {},
   "outputs": [],
   "source": [
    "\n",
    "import scipy\n",
    "import numpy as np\n",
    "import matplotlib.pyplot as plt\n",
    "import seaborn as sns\n",
    "from scipy.stats import poisson, nbinom, geom"
   ]
  },
  {
   "cell_type": "markdown",
   "metadata": {},
   "source": [
    "## Question 1"
   ]
  },
  {
   "cell_type": "markdown",
   "metadata": {
    "deletable": false,
    "editable": false
   },
   "source": [
    "### a) \n",
    "\n",
    "Write a function that will use the inverse transform method to simulate data from a Poisson distribution with parameter $\\mu$. You may assume that the chances of getting values greater than 20 are trivial. \n",
    "\n",
    "<!--\n",
    "BEGIN QUESTION\n",
    "name: q1a\n",
    "points: 3\n",
    "-->"
   ]
  },
  {
   "cell_type": "code",
   "execution_count": 147,
   "metadata": {},
   "outputs": [
    {
     "name": "stdout",
     "output_type": "stream",
     "text": [
      "[0.006737946999085469, 0.04042768199451281, 0.12465201948308118, 0.26502591529736175, 0.44049328506521246, 0.6159606548330632, 0.7621834629729388, 0.8666283259299928, 0.9319063652781516, 0.9681719426937954, 0.9863047314016172, 0.9945469080869909, 0.9979811483725632, 0.9993020100208603, 0.9997737463238235, 0.9999309917581446, 0.99998013095637, 0.9999945836617303]\n"
     ]
    }
   ],
   "source": [
    "import math\n",
    "\n",
    "def rpoi(size: int=1,mu: float = 1)-> 'np.ndarray':\n",
    "    top=math.pow(mu, size)\n",
    "    bottom=math.factorial(size)\n",
    "    multiplier=math.pow(math.e,-mu)\n",
    "    return np.array(multiplier*top/bottom)\n",
    "\n",
    "def discrete_cdf(discrete_pmf,size, **kwargs):\n",
    "    cdf = 0\n",
    "    for k in range(size):\n",
    "        cdf += discrete_pmf(size=k, **kwargs)\n",
    "    return cdf\n",
    "\n",
    "def get_probabilities(pmf, tol=10**(-5), **kwargs):\n",
    "    pvec = []\n",
    "    k = 1\n",
    "    cdf = 0\n",
    "    while (1-cdf) > tol:\n",
    "        cdf = discrete_cdf(pmf, size=k, **kwargs)\n",
    "        pvec.append(cdf)\n",
    "        k += 1\n",
    "    return pvec\n",
    "\n",
    "def discrete_inv_transform_sample(pvec):\n",
    "    pvec = np.sort(pvec)\n",
    "    U = np.random.uniform(size=1)\n",
    "    if U <= pvec[0]:\n",
    "        return 0\n",
    "    for k in range(1, pvec.__len__()):\n",
    "        if U > pvec[k-1] and U <= pvec[k]:\n",
    "            return k\n",
    "\n",
    "p=get_prob(size=1000, mu=5, pmf=rpoi ,tol=10**(-5))\n",
    "print(p)\n",
    "\n",
    "def simulate(pmf, size, **kwargs):\n",
    "    samples = []\n",
    "    p = get_probabilities(rpoi, **kwargs)\n",
    "    for i in range(size):\n",
    "        samples.append(discrete_inv_transform_sample(p))\n",
    "    return samples\n",
    "\n",
    "def simulate(pmf, size, **kwargs):\n",
    "    samples = []\n",
    "    p = get_probabilities(rpoi, **kwargs)\n",
    "    for i in range(size):\n",
    "        samples.append(discrete_inv_transform_sample(p))\n",
    "    return samples"
   ]
  },
  {
   "cell_type": "code",
   "execution_count": 148,
   "metadata": {
    "deletable": false,
    "editable": false
   },
   "outputs": [
    {
     "data": {
      "text/html": [
       "<p><strong><pre style='display: inline;'>q1a</pre></strong> passed!</p>"
      ],
      "text/plain": [
       "q1a results: All test cases passed!"
      ]
     },
     "execution_count": 148,
     "metadata": {},
     "output_type": "execute_result"
    }
   ],
   "source": [
    "grader.check(\"q1a\")"
   ]
  },
  {
   "cell_type": "markdown",
   "metadata": {
    "deletable": false,
    "editable": false
   },
   "source": [
    "### b)\n",
    "\n",
    "Using your function, generate 1000 samples from the Poisson distribution with parameter $\\mu=5$. \n",
    "\n",
    "<!--\n",
    "BEGIN QUESTION\n",
    "name: q1b\n",
    "points: 2\n",
    "-->"
   ]
  },
  {
   "cell_type": "code",
   "execution_count": 153,
   "metadata": {},
   "outputs": [],
   "source": [
    "poi_sims=np.array(simulate(rpoi, size=1000, mu=5))"
   ]
  },
  {
   "cell_type": "code",
   "execution_count": 154,
   "metadata": {
    "deletable": false,
    "editable": false
   },
   "outputs": [
    {
     "data": {
      "text/html": [
       "<p><strong><pre style='display: inline;'>q1b</pre></strong> passed!</p>"
      ],
      "text/plain": [
       "q1b results: All test cases passed!"
      ]
     },
     "execution_count": 154,
     "metadata": {},
     "output_type": "execute_result"
    }
   ],
   "source": [
    "grader.check(\"q1b\")"
   ]
  },
  {
   "cell_type": "markdown",
   "metadata": {
    "deletable": false,
    "editable": false
   },
   "source": [
    "<!-- BEGIN QUESTION -->\n",
    "\n",
    "### c)\n",
    "\n",
    "Make a histogram of your simulated data in *b)* and overlay a plot of a Poisson density function with $\\mu=5$. \n",
    "\n",
    "* Use 30 bins for the histogram\n",
    "\n",
    "<!--\n",
    "BEGIN QUESTION\n",
    "manual: true\n",
    "name: q1c\n",
    "points: 5\n",
    "-->"
   ]
  },
  {
   "cell_type": "code",
   "execution_count": 216,
   "metadata": {},
   "outputs": [
    {
     "name": "stderr",
     "output_type": "stream",
     "text": [
      "C:\\SRC\\Anaconda\\lib\\site-packages\\seaborn\\distributions.py:2551: FutureWarning: `distplot` is a deprecated function and will be removed in a future version. Please adapt your code to use either `displot` (a figure-level function with similar flexibility) or `histplot` (an axes-level function for histograms).\n",
      "  warnings.warn(msg, FutureWarning)\n"
     ]
    },
    {
     "data": {
      "text/plain": [
       "<AxesSubplot:ylabel='Density'>"
      ]
     },
     "execution_count": 216,
     "metadata": {},
     "output_type": "execute_result"
    },
    {
     "data": {
      "image/png": "[encoded data removed]",
      "text/plain": [
       "<Figure size 432x288 with 1 Axes>"
      ]
     },
     "metadata": {
      "needs_background": "light"
     },
     "output_type": "display_data"
    }
   ],
   "source": [
    "# x = np.linspace(0,20,21)\n",
    "true_sample = np.random.poisson(lam=5,size=1000)\n",
    "import seaborn as sns\n",
    "sns.histplot(poi_sims, stat='density',bins=30)\n",
    "sns.distplot(true_sample)"
   ]
  },
  {
   "cell_type": "markdown",
   "metadata": {},
   "source": [
    "<!-- END QUESTION -->\n",
    "\n",
    "\n",
    "\n",
    "## Question 2 \n"
   ]
  },
  {
   "cell_type": "markdown",
   "metadata": {
    "deletable": false,
    "editable": false
   },
   "source": [
    "### a)\n",
    "\n",
    "Write a function that will use the Acceptance-Rejection method to simulate data from a Negative Binomial type 1 distribution with parameters $k$ and $p$. Use a Geometric distribution with parameter $p=0.15$ as proposal. \n",
    "\n",
    "<!--\n",
    "BEGIN QUESTION\n",
    "name: q2a\n",
    "points: 3\n",
    "-->"
   ]
  },
  {
   "cell_type": "code",
   "execution_count": 215,
   "metadata": {},
   "outputs": [
    {
     "name": "stdout",
     "output_type": "stream",
     "text": [
      "0.0872802734375\n",
      "0.1275\n"
     ]
    },
    {
     "ename": "TypeError",
     "evalue": "only integer scalar arrays can be converted to a scalar index",
     "output_type": "error",
     "traceback": [
      "\u001b[1;31m---------------------------------------------------------------------------\u001b[0m",
      "\u001b[1;31mTypeError\u001b[0m                                 Traceback (most recent call last)",
      "\u001b[1;32m<ipython-input-215-c0b0ade74a6e>\u001b[0m in \u001b[0;36m<module>\u001b[1;34m\u001b[0m\n\u001b[0;32m     39\u001b[0m     \u001b[1;32mreturn\u001b[0m \u001b[0mran\u001b[0m\u001b[1;33m,\u001b[0m \u001b[0mntrial\u001b[0m\u001b[1;33m\u001b[0m\u001b[1;33m\u001b[0m\u001b[0m\n\u001b[0;32m     40\u001b[0m \u001b[1;33m\u001b[0m\u001b[0m\n\u001b[1;32m---> 41\u001b[1;33m \u001b[0mrandomvariate\u001b[0m\u001b[1;33m(\u001b[0m\u001b[0mrnbin\u001b[0m\u001b[1;33m)\u001b[0m\u001b[1;33m\u001b[0m\u001b[1;33m\u001b[0m\u001b[0m\n\u001b[0m",
      "\u001b[1;32m<ipython-input-215-c0b0ade74a6e>\u001b[0m in \u001b[0;36mrandomvariate\u001b[1;34m(pdf, n, xmin, xmax)\u001b[0m\n\u001b[0;32m     17\u001b[0m \u001b[1;33m\u001b[0m\u001b[0m\n\u001b[0;32m     18\u001b[0m     \u001b[0mx\u001b[0m \u001b[1;33m=\u001b[0m \u001b[0mnp\u001b[0m\u001b[1;33m.\u001b[0m\u001b[0mlinspace\u001b[0m\u001b[1;33m(\u001b[0m\u001b[0mxmin\u001b[0m\u001b[1;33m,\u001b[0m \u001b[0mxmax\u001b[0m\u001b[1;33m,\u001b[0m \u001b[1;36m1000\u001b[0m\u001b[1;33m)\u001b[0m\u001b[1;33m\u001b[0m\u001b[1;33m\u001b[0m\u001b[0m\n\u001b[1;32m---> 19\u001b[1;33m     \u001b[0my\u001b[0m \u001b[1;33m=\u001b[0m \u001b[0mpdf\u001b[0m\u001b[1;33m(\u001b[0m\u001b[0mx\u001b[0m\u001b[1;33m)\u001b[0m\u001b[1;33m\u001b[0m\u001b[1;33m\u001b[0m\u001b[0m\n\u001b[0m\u001b[0;32m     20\u001b[0m \u001b[1;33m\u001b[0m\u001b[0m\n\u001b[0;32m     21\u001b[0m     \u001b[0mpmin\u001b[0m \u001b[1;33m=\u001b[0m \u001b[1;36m0.\u001b[0m\u001b[1;33m\u001b[0m\u001b[1;33m\u001b[0m\u001b[0m\n",
      "\u001b[1;32m<ipython-input-215-c0b0ade74a6e>\u001b[0m in \u001b[0;36mrnbin\u001b[1;34m(size, k, p)\u001b[0m\n\u001b[0;32m      1\u001b[0m \u001b[1;32mdef\u001b[0m \u001b[0mrnbin\u001b[0m\u001b[1;33m(\u001b[0m\u001b[0msize\u001b[0m\u001b[1;33m:\u001b[0m \u001b[0mint\u001b[0m\u001b[1;33m=\u001b[0m\u001b[1;36m1\u001b[0m\u001b[1;33m,\u001b[0m\u001b[0mk\u001b[0m\u001b[1;33m:\u001b[0m \u001b[0mint\u001b[0m\u001b[1;33m=\u001b[0m\u001b[1;36m1\u001b[0m\u001b[1;33m,\u001b[0m \u001b[0mp\u001b[0m\u001b[1;33m:\u001b[0m \u001b[0mfloat\u001b[0m \u001b[1;33m=\u001b[0m \u001b[1;36m0.5\u001b[0m\u001b[1;33m)\u001b[0m\u001b[1;33m->\u001b[0m \u001b[1;34m'np.ndarray'\u001b[0m\u001b[1;33m:\u001b[0m\u001b[1;33m\u001b[0m\u001b[1;33m\u001b[0m\u001b[0m\n\u001b[1;32m----> 2\u001b[1;33m     \u001b[0mt1\u001b[0m\u001b[1;33m=\u001b[0m\u001b[0mmath\u001b[0m\u001b[1;33m.\u001b[0m\u001b[0mcomb\u001b[0m\u001b[1;33m(\u001b[0m\u001b[0mk\u001b[0m\u001b[1;33m+\u001b[0m\u001b[0msize\u001b[0m\u001b[1;33m-\u001b[0m\u001b[1;36m1\u001b[0m\u001b[1;33m,\u001b[0m\u001b[0msize\u001b[0m\u001b[1;33m-\u001b[0m\u001b[1;36m1\u001b[0m\u001b[1;33m)\u001b[0m\u001b[1;33m\u001b[0m\u001b[1;33m\u001b[0m\u001b[0m\n\u001b[0m\u001b[0;32m      3\u001b[0m     \u001b[0mt2\u001b[0m\u001b[1;33m=\u001b[0m\u001b[1;33m(\u001b[0m\u001b[0mp\u001b[0m\u001b[1;33m**\u001b[0m\u001b[0msize\u001b[0m\u001b[1;33m)\u001b[0m\u001b[1;33m\u001b[0m\u001b[1;33m\u001b[0m\u001b[0m\n\u001b[0;32m      4\u001b[0m     \u001b[0mt3\u001b[0m\u001b[1;33m=\u001b[0m\u001b[1;33m(\u001b[0m\u001b[1;36m1\u001b[0m\u001b[1;33m-\u001b[0m\u001b[0mp\u001b[0m\u001b[1;33m)\u001b[0m\u001b[1;33m**\u001b[0m\u001b[0mk\u001b[0m\u001b[1;33m\u001b[0m\u001b[1;33m\u001b[0m\u001b[0m\n\u001b[0;32m      5\u001b[0m     \u001b[1;32mreturn\u001b[0m \u001b[0mnp\u001b[0m\u001b[1;33m.\u001b[0m\u001b[0marray\u001b[0m\u001b[1;33m(\u001b[0m\u001b[0mt1\u001b[0m\u001b[1;33m*\u001b[0m\u001b[0mt2\u001b[0m\u001b[1;33m*\u001b[0m\u001b[0mt3\u001b[0m\u001b[1;33m)\u001b[0m\u001b[1;33m\u001b[0m\u001b[1;33m\u001b[0m\u001b[0m\n",
      "\u001b[1;31mTypeError\u001b[0m: only integer scalar arrays can be converted to a scalar index"
     ]
    }
   ],
   "source": [
    "def rnbin(size: int=1,k: int=1, p: float = 0.5)-> 'np.ndarray':\n",
    "    t1=math.comb(k+size-1,size-1)\n",
    "    t2=(p**size)\n",
    "    t3=(1-p)**k\n",
    "    return np.array(t1*t2*t3)\n",
    "\n",
    "print(rnbin(size=10,k=7,p=0.5))\n",
    "# print(type(math.comb(10+7-1,10-1)))\n",
    "\n",
    "def rgeom(k: int=1, p: float = 0.5)-> 'np.ndarray':\n",
    "    f=((1-p)**(k-1))*p\n",
    "    return f\n",
    "\n",
    "print(rgeom(k=2, p=0.15))\n",
    "\n",
    "def randomvariate(pdf, n = 100, xmin=0, xmax=6):\n",
    "    \n",
    "    x = np.linspace(xmin, xmax, 1000)\n",
    "    y = pdf(x)\n",
    "    \n",
    "    pmin = 0.\n",
    "    pmax = y.max()\n",
    "    \n",
    "    # counters\n",
    "    naccept = 0\n",
    "    ntrial  = 0\n",
    "    \n",
    "    ran = []\n",
    "    while naccept <= n:\n",
    "        x = np.random.uniform(xmin, xmax) # ~ from g()\n",
    "        y = np.random.uniform(pmin, pmax) # ~ from U\n",
    "    \n",
    "        if y < pdf(x):\n",
    "            ran.append(x)\n",
    "            naccept += 1\n",
    "            ntrial += 1\n",
    "            \n",
    "    ran = np.asanyarray(ran)\n",
    "    return ran, ntrial\n",
    "\n",
    "randomvariate(rnbin)"
   ]
  },
  {
   "cell_type": "code",
   "execution_count": null,
   "metadata": {
    "deletable": false,
    "editable": false
   },
   "outputs": [],
   "source": [
    "grader.check(\"q2a\")"
   ]
  },
  {
   "cell_type": "markdown",
   "metadata": {
    "deletable": false,
    "editable": false
   },
   "source": [
    "### b)\n",
    "\n",
    "Using your function, generate 1000 samples from the Negative Binomial type 1 distribution with parameter $k=7$ and $p=0.5$.\n",
    "\n",
    "<!--\n",
    "BEGIN QUESTION\n",
    "name: q2b\n",
    "points: 2\n",
    "-->"
   ]
  },
  {
   "cell_type": "code",
   "execution_count": 39,
   "metadata": {},
   "outputs": [],
   "source": [
    "nb_sims= ..."
   ]
  },
  {
   "cell_type": "code",
   "execution_count": null,
   "metadata": {
    "deletable": false,
    "editable": false
   },
   "outputs": [],
   "source": [
    "grader.check(\"q2b\")"
   ]
  },
  {
   "cell_type": "markdown",
   "metadata": {
    "deletable": false,
    "editable": false
   },
   "source": [
    "<!-- BEGIN QUESTION -->\n",
    "\n",
    "### c)\n",
    "\n",
    "Make a histogram of your simulated data in *b)* and overlay a plot of a Negative Binomial type 1 distribution with parameter $k=7$ and $p=0.5$. \n",
    "\n",
    "* Use 30 bins for the histogram\n",
    "\n",
    "<!--\n",
    "BEGIN QUESTION\n",
    "manual: true\n",
    "name: q2c\n",
    "points: 5\n",
    "-->"
   ]
  },
  {
   "cell_type": "code",
   "execution_count": 42,
   "metadata": {},
   "outputs": [],
   "source": [
    "x = np.linspace(0,25,26)\n",
    "..."
   ]
  },
  {
   "cell_type": "markdown",
   "metadata": {
    "deletable": false,
    "editable": false
   },
   "source": [
    "---\n",
    "\n",
    "To double-check your work, the cell below will rerun all of the autograder tests."
   ]
  },
  {
   "cell_type": "code",
   "execution_count": null,
   "metadata": {
    "deletable": false,
    "editable": false
   },
   "outputs": [],
   "source": [
    "grader.check_all()"
   ]
  }
 ],
 "metadata": {
  "interpreter": {
   "hash": "538429c450efbd77a8453df3f17531b9dae7ccc470ec6f77f47fd67844536548"
  },
  "kernelspec": {
   "display_name": "Python 3 (ipykernel)",
   "language": "python",
   "name": "python3"
  },
  "language_info": {
   "codemirror_mode": {
    "name": "ipython",
    "version": 3
   },
   "file_extension": ".py",
   "mimetype": "text/x-python",
   "name": "python",
   "nbconvert_exporter": "python",
   "pygments_lexer": "ipython3",
   "version": "3.8.12"
  }
 },
 "nbformat": 4,
 "nbformat_minor": 2
}
