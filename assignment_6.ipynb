{
 "cells": [
  {
   "cell_type": "code",
   "execution_count": 146,
   "metadata": {
    "deletable": false,
    "editable": false
   },
   "outputs": [],
   "source": [
    "# Initialize Otter\n",
    "import otter\n",
    "grader = otter.Notebook(\"assignment_6.ipynb\")"
   ]
  },
  {
   "cell_type": "markdown",
   "metadata": {
    "nbgrader": {
     "grade": false,
     "grade_id": "heading",
     "locked": true,
     "schema_version": 1,
     "solution": false
    }
   },
   "source": [
    "# STK 353\n",
    "\n",
    "## Assignment 6: Machine Learning\n",
    "\n",
    "#### Internal examiner: Ineke Derks\n",
    "#### External examiner: Dr Sebnem Er\n",
    "\n",
    "### Total points: 35\n",
    "\n",
    "- Submission deadline: 23:00, Thursday 10 November 2021.\n",
    "- This assignment is individual work.\n",
    "- Some of the tests are hidden, and some are visible in order to guide you.\n"
   ]
  },
  {
   "cell_type": "markdown",
   "metadata": {},
   "source": [
    "## Load the required packages"
   ]
  },
  {
   "cell_type": "code",
   "execution_count": 147,
   "metadata": {},
   "outputs": [],
   "source": [
    "import re\n",
    "\n",
    "import numpy as np\n",
    "\n",
    "import pandas as pd\n",
    "import matplotlib.pyplot as plt\n",
    "%matplotlib inline\n",
    "\n",
    "from sklearn.preprocessing import LabelEncoder\n",
    "from sklearn.feature_extraction.text import TfidfVectorizer\n",
    "from sklearn.feature_extraction.text import CountVectorizer\n",
    "from sklearn.model_selection import train_test_split\n",
    "from sklearn import metrics\n",
    "from sklearn.linear_model import LogisticRegression\n",
    "from sklearn.naive_bayes import MultinomialNB\n",
    "from sklearn.decomposition import LatentDirichletAllocation\n",
    "from sklearn.metrics import confusion_matrix"
   ]
  },
  {
   "cell_type": "markdown",
   "metadata": {},
   "source": [
    "### Question 1 - Prepare the data\n",
    "\n",
    "The data can be found in 'IMDB.csv'. The IMDB dataset has 50K movie reviews, which can be used for natural language processing or text analytics. This is a dataset for binary sentiment classification containing substantially more data than previous benchmark datasets. We provide a set of 25,000 highly polar movie reviews for training and 25,000 for testing. In this assignment, you are required to predict the number of positive and negative reviews using logistic regression and naive Bayes. Furthermore, you are required to determine the underlying topics using latent Dirichlet allocation."
   ]
  },
  {
   "cell_type": "markdown",
   "metadata": {
    "deletable": false,
    "editable": false
   },
   "source": [
    "#### Question 1.1 [1]\n",
    "\n",
    "- Read the data into a dataframe and call it 'review'.\n",
    "- **Important**: Make sure the dataset is saved in the **same** directory as your notebook.\n",
    "- Write the review column to a list. Only use the first 2500 rows. Call this list 'X_arr'.\n",
    "\n",
    "**Note**: Pay attention to the variable names specified. It is important that you keep to the names specified.\n",
    "\n",
    "<!--\n",
    "BEGIN QUESTION\n",
    "name: q1.1\n",
    "points: \n",
    "    each: 0.5\n",
    "-->"
   ]
  },
  {
   "cell_type": "code",
   "execution_count": 148,
   "metadata": {
    "nbgrader": {
     "grade": false,
     "grade_id": "q_1_answer",
     "locked": false,
     "schema_version": 1,
     "solution": true
    }
   },
   "outputs": [
    {
     "name": "stdout",
     "output_type": "stream",
     "text": [
      "                                              review sentiment\n",
      "0  One of the other reviewers has mentioned that ...  positive\n",
      "1  A wonderful little production. <br /><br />The...  positive\n",
      "2  I thought this was a wonderful way to spend ti...  positive\n",
      "3  Basically there's a family where a little boy ...  negative\n",
      "4  Petter Mattei's \"Love in the Time of Money\" is...  positive\n",
      "2500\n"
     ]
    }
   ],
   "source": [
    "review = pd.read_csv('IMDB.csv')\n",
    "print(review.head())\n",
    "review_col_list = review['review'].tolist()\n",
    "X_arr=review_col_list[0:2500]\n",
    "print(len(X_arr))"
   ]
  },
  {
   "cell_type": "code",
   "execution_count": 150,
   "metadata": {
    "deletable": false,
    "editable": false
   },
   "outputs": [
    {
     "data": {
      "text/html": [
       "<p><strong><pre style='display: inline;'>q1.1</pre></strong> passed!</p>"
      ],
      "text/plain": [
       "q1.1 results: All test cases passed!"
      ]
     },
     "execution_count": 150,
     "metadata": {},
     "output_type": "execute_result"
    }
   ],
   "source": [
    "grader.check(\"q1.1\")"
   ]
  },
  {
   "cell_type": "markdown",
   "metadata": {
    "deletable": false,
    "editable": false
   },
   "source": [
    "#### Question 1.2 [1]\n",
    "\n",
    "- Use sklearn.preprocessing LabelEncoder to encode the labels to binary values 0 or 1. Make a new column in the dataframe for this encoding and call it 'target'. Positive sentiment will be 1 and a negative sentiment will be 0.\n",
    "- Drop the sentiment column.\n",
    "\n",
    "<!--\n",
    "BEGIN QUESTION\n",
    "name: q1.2\n",
    "points: 1\n",
    "-->"
   ]
  },
  {
   "cell_type": "code",
   "execution_count": 149,
   "metadata": {},
   "outputs": [
    {
     "name": "stdout",
     "output_type": "stream",
     "text": [
      "                                              review  target\n",
      "0  One of the other reviewers has mentioned that ...       1\n",
      "1  A wonderful little production. <br /><br />The...       1\n",
      "2  I thought this was a wonderful way to spend ti...       1\n",
      "3  Basically there's a family where a little boy ...       0\n",
      "4  Petter Mattei's \"Love in the Time of Money\" is...       1\n"
     ]
    }
   ],
   "source": [
    "le = LabelEncoder()\n",
    "review['target'] = le.fit_transform(review.sentiment)\n",
    "review.drop('sentiment',axis=1,inplace=True)\n",
    "\n",
    "print(review.head())"
   ]
  },
  {
   "cell_type": "code",
   "execution_count": 151,
   "metadata": {
    "deletable": false,
    "editable": false
   },
   "outputs": [
    {
     "data": {
      "text/html": [
       "<p><strong><pre style='display: inline;'>q1.2</pre></strong> passed!</p>"
      ],
      "text/plain": [
       "q1.2 results: All test cases passed!"
      ]
     },
     "execution_count": 151,
     "metadata": {},
     "output_type": "execute_result"
    }
   ],
   "source": [
    "grader.check(\"q1.2\")"
   ]
  },
  {
   "cell_type": "markdown",
   "metadata": {},
   "source": [
    "## Movie review sentiment classification"
   ]
  },
  {
   "cell_type": "markdown",
   "metadata": {
    "nbgrader": {
     "grade": false,
     "grade_id": "q_2",
     "locked": true,
     "schema_version": 1,
     "solution": false
    }
   },
   "source": [
    "### Question 2 -  Logistic Regression"
   ]
  },
  {
   "cell_type": "markdown",
   "metadata": {
    "deletable": false,
    "editable": false
   },
   "source": [
    "#### Question 2.1 [3]\n",
    "\n",
    "- Use the sklearn TfidfVectorizer. Use the following parameters:\n",
    "    - stop_words = 'english'.\n",
    "    - token_pattern = r'\\b[^\\d\\W]+\\b'. \n",
    "- Call the instantiation 'tfidf'.\n",
    "- Get the vectorization (call it bag_of_words) and the feature names (call it 'feature_names_lr').\n",
    "- Write the vectorization to a dataframe with the feature_names as column headings. Call the dataframe 'vectorized_text_lr'.\n",
    "\n",
    "<!--\n",
    "BEGIN QUESTION\n",
    "name: q2.1\n",
    "points: \n",
    "    each: 1\n",
    "-->"
   ]
  },
  {
   "cell_type": "code",
   "execution_count": 152,
   "metadata": {
    "nbgrader": {
     "grade": false,
     "grade_id": "q_3_answer",
     "locked": false,
     "schema_version": 1,
     "solution": true
    }
   },
   "outputs": [],
   "source": [
    "x_arr_other=np.array(X_arr)\n",
    "tfidf = TfidfVectorizer(stop_words = 'english', token_pattern =r'\\b[^\\d\\W]+\\b' )\n",
    "my_tfidf = tfidf.fit_transform(X_arr) #is array\n",
    "my_tfidf1 = my_tfidf.toarray()\n",
    "bag_of_words = pd.DataFrame(my_tfidf1)\n",
    "feature_names_lr =tfidf.get_feature_names()\n",
    "bag_of_words.columns = feature_names_lr\n",
    "vectorized_text_lr=bag_of_words\n"
   ]
  },
  {
   "cell_type": "code",
   "execution_count": 153,
   "metadata": {
    "deletable": false,
    "editable": false
   },
   "outputs": [
    {
     "data": {
      "text/html": [
       "<p><strong><pre style='display: inline;'>q2.1</pre></strong> passed!</p>"
      ],
      "text/plain": [
       "q2.1 results: All test cases passed!"
      ]
     },
     "execution_count": 153,
     "metadata": {},
     "output_type": "execute_result"
    }
   ],
   "source": [
    "grader.check(\"q2.1\")"
   ]
  },
  {
   "cell_type": "markdown",
   "metadata": {
    "deletable": false,
    "editable": false,
    "nbgrader": {
     "grade": false,
     "grade_id": "q_4",
     "locked": true,
     "schema_version": 1,
     "solution": false
    }
   },
   "source": [
    "#### Question 2.2 [1]\n",
    "\n",
    "Split the data into a training and test set.\n",
    "\n",
    "- Use a 70/30 split.\n",
    "- Use a seed of 27.\n",
    "- Name the training and test sets: X_train, Y_train, X_test, Y_test.\n",
    "\n",
    "<!--\n",
    "BEGIN QUESTION\n",
    "name: q2.2\n",
    "points: \n",
    "    each: 0.5\n",
    "-->"
   ]
  },
  {
   "cell_type": "code",
   "execution_count": 154,
   "metadata": {
    "nbgrader": {
     "grade": false,
     "grade_id": "q_4_answer",
     "locked": false,
     "schema_version": 1,
     "solution": true
    }
   },
   "outputs": [],
   "source": [
    "train, test = train_test_split(vectorized_text_lr,test_size=0.30,random_state=27)\n",
    "\n",
    "X_train = train\n",
    "Y_train = review['target'][train.index]\n",
    "\n",
    "X_test = test\n",
    "Y_test = review['target'][test.index]\n"
   ]
  },
  {
   "cell_type": "code",
   "execution_count": 155,
   "metadata": {
    "deletable": false,
    "editable": false
   },
   "outputs": [
    {
     "data": {
      "text/html": [
       "<p><strong><pre style='display: inline;'>q2.2</pre></strong> passed!</p>"
      ],
      "text/plain": [
       "q2.2 results: All test cases passed!"
      ]
     },
     "execution_count": 155,
     "metadata": {},
     "output_type": "execute_result"
    }
   ],
   "source": [
    "grader.check(\"q2.2\")"
   ]
  },
  {
   "cell_type": "markdown",
   "metadata": {
    "deletable": false,
    "editable": false
   },
   "source": [
    "#### Question 2.3a [1]\n",
    "\n",
    "- Use the training set to check the class imbalance of the data set and call it 'class_ratio'.\n",
    "\n",
    "<!--\n",
    "BEGIN QUESTION\n",
    "name: q2.3a\n",
    "points: 1\n",
    "-->"
   ]
  },
  {
   "cell_type": "code",
   "execution_count": 156,
   "metadata": {},
   "outputs": [
    {
     "name": "stdout",
     "output_type": "stream",
     "text": [
      "1    51.028571\n",
      "0    48.971429\n",
      "Name: target, dtype: float64\n"
     ]
    }
   ],
   "source": [
    "class_ratio = Y_train.value_counts(normalize=True)*100\n",
    "print(class_ratio)"
   ]
  },
  {
   "cell_type": "code",
   "execution_count": 157,
   "metadata": {
    "deletable": false,
    "editable": false
   },
   "outputs": [
    {
     "data": {
      "text/html": [
       "<p><strong><pre style='display: inline;'>q2.3a</pre></strong> passed!</p>"
      ],
      "text/plain": [
       "q2.3a results: All test cases passed!"
      ]
     },
     "execution_count": 157,
     "metadata": {},
     "output_type": "execute_result"
    }
   ],
   "source": [
    "grader.check(\"q2.3a\")"
   ]
  },
  {
   "cell_type": "markdown",
   "metadata": {
    "deletable": false,
    "editable": false
   },
   "source": [
    "<!-- BEGIN QUESTION -->\n",
    "\n",
    "#### Question 2.3b [1]\n",
    "\n",
    "- In the markdown cell below, comment on the class ratio.\n",
    "\n",
    "<!--\n",
    "BEGIN QUESTION\n",
    "name: q2.3b\n",
    "points: 1\n",
    "manual: true\n",
    "-->"
   ]
  },
  {
   "cell_type": "markdown",
   "metadata": {},
   "source": [
    "\n",
    "The values from class_ratio of : 51.028571 for 1 and 48.971429 for 0 tells us that there is Slight Imbalance in the classes.\n",
    "\n",
    "A slight imbalance is often not a concern, and the problem can often be treated like a normal classification predictive modeling problem. Therefore the model is still valid and can be used.\n"
   ]
  },
  {
   "cell_type": "markdown",
   "metadata": {
    "deletable": false,
    "editable": false
   },
   "source": [
    "<!-- END QUESTION -->\n",
    "\n",
    "#### Question 2.4  [1]\n",
    "\n",
    "Create an instance of the logistic regression model. Specify solver = 'lbfgs'.\n",
    "\n",
    "- Fit the model to the training data and call it 'logistic_model'. \n",
    "- Calculate the accuracy on the training data and call it 'log_acc'.\n",
    "\n",
    "<!--\n",
    "BEGIN QUESTION\n",
    "name: q2.4\n",
    "points: 1\n",
    "-->"
   ]
  },
  {
   "cell_type": "code",
   "execution_count": 158,
   "metadata": {
    "nbgrader": {
     "grade": false,
     "grade_id": "q_7",
     "locked": false,
     "schema_version": 1,
     "solution": true
    }
   },
   "outputs": [
    {
     "name": "stdout",
     "output_type": "stream",
     "text": [
      "0.8347\n"
     ]
    }
   ],
   "source": [
    "\n",
    "# Train logistic regression\n",
    "logistic_model = LogisticRegression(solver = 'lbfgs', random_state = 42)\n",
    "logistic_model.fit(X_train,Y_train)\n",
    "\n",
    "# Predict\n",
    "predicted = logistic_model.predict(X_test)\n",
    "\n",
    "# # Performance metrics\n",
    "# conf_matrix = confusion_matrix(Y_test,predicted)\n",
    "# print(conf_matrix)\n",
    "\n",
    "log_acc = round(metrics.accuracy_score(Y_test,predicted),4)\n",
    "\n",
    "print(log_acc)"
   ]
  },
  {
   "cell_type": "code",
   "execution_count": 68,
   "metadata": {
    "deletable": false,
    "editable": false
   },
   "outputs": [
    {
     "data": {
      "text/html": [
       "<p><strong><pre style='display: inline;'>q2.4</pre></strong> passed!</p>"
      ],
      "text/plain": [
       "q2.4 results: All test cases passed!"
      ]
     },
     "execution_count": 68,
     "metadata": {},
     "output_type": "execute_result"
    }
   ],
   "source": [
    "grader.check(\"q2.4\")"
   ]
  },
  {
   "cell_type": "markdown",
   "metadata": {
    "deletable": false,
    "editable": false
   },
   "source": [
    "#### Question 2.5 [3]\n",
    "\n",
    "Predict class labels for the test set and calculate the class probabilities.\n",
    "\n",
    "- Call the predicted class labels 'predicted'.\n",
    "- Call the predicted class probabilities 'probs'.\n",
    "\n",
    "Calculate the following,\n",
    "\n",
    "- Calculate the accuracy score on the test set and call it 'log_acc_score'.\n",
    "- Calculate the precision score on the test set and call it 'log_prec_score'.\n",
    "- Calculate the recall score on the test set and call it 'log_rec_score'.\n",
    "- Calculate the auc (area under the curve) score on the test set and call it 'log_auc_score'.\n",
    "\n",
    "**Note**: Round the 'log_acc_score', 'log_prec_score', 'log_rec_score', and 'log_auc_score' values to 4 decimal points.\n",
    "\n",
    "<!--\n",
    "BEGIN QUESTION\n",
    "name: q2.5\n",
    "points: \n",
    "    each: 1\n",
    "-->"
   ]
  },
  {
   "cell_type": "code",
   "execution_count": 159,
   "metadata": {
    "nbgrader": {
     "grade": false,
     "grade_id": "q_8",
     "locked": false,
     "schema_version": 1,
     "solution": true
    }
   },
   "outputs": [
    {
     "name": "stdout",
     "output_type": "stream",
     "text": [
      "0.8347 0.8767 0.8074 0.9137\n"
     ]
    }
   ],
   "source": [
    "predicted = logistic_model.predict(X_test)\n",
    "y_pred_proba = logistic_model.predict_proba(X_test)[::,1]\n",
    "\n",
    "log_acc_score=round(metrics.accuracy_score(Y_test, predicted),4)\n",
    "log_rec_score=round(metrics.recall_score(Y_test, predicted),4)\n",
    "log_prec_score=round(metrics.precision_score(Y_test, predicted),4)\n",
    "\n",
    "log_auc_score=round(metrics.roc_auc_score(Y_test, y_pred_proba),4)\n",
    "\n",
    "print(log_acc_score ,log_rec_score,log_prec_score, log_auc_score)"
   ]
  },
  {
   "cell_type": "code",
   "execution_count": 164,
   "metadata": {
    "deletable": false,
    "editable": false
   },
   "outputs": [
    {
     "data": {
      "text/html": [
       "<p><strong><pre style='display: inline;'>q2.5</pre></strong> passed!</p>"
      ],
      "text/plain": [
       "q2.5 results: All test cases passed!"
      ]
     },
     "execution_count": 164,
     "metadata": {},
     "output_type": "execute_result"
    }
   ],
   "source": [
    "grader.check(\"q2.5\")"
   ]
  },
  {
   "cell_type": "markdown",
   "metadata": {
    "deletable": false,
    "editable": false,
    "nbgrader": {
     "grade": true,
     "grade_id": "q_9_1",
     "locked": false,
     "points": 1,
     "schema_version": 1,
     "solution": true
    }
   },
   "source": [
    "<!-- BEGIN QUESTION -->\n",
    "\n",
    "#### Question 2.6 [1]\n",
    "\n",
    "Does the model perform better than randomly assigning classes? Explain why.\n",
    "\n",
    "<!--\n",
    "BEGIN QUESTION\n",
    "name: q2.6\n",
    "points: 1\n",
    "manual: true\n",
    "-->"
   ]
  },
  {
   "cell_type": "markdown",
   "metadata": {},
   "source": [
    "The hight accuracy score of 0.8347 tells us that: the number of correct predictions/total number of predictons is quite accurate. So, therefore the model made correct predictions 83.37% of the time. \n",
    "\n",
    "heh precision metric also tells us that the modelis correct about 80.74% of the time.\n",
    "\n",
    "The recall metric of 0.8767 tells us that the model was able to identify the data very well.\n",
    "\n",
    "The high AUC value of 0.9137 , tells us that the model did well at distinguishing between the positive and negative classes.\n",
    "\n",
    "All these metrics tells us that the model is functioning deterministically according to the data, and it was not up to random chance.So, yes the model performed better than randomly assigning classes."
   ]
  },
  {
   "cell_type": "markdown",
   "metadata": {
    "deletable": false,
    "editable": false
   },
   "source": [
    "<!-- END QUESTION -->\n",
    "\n",
    "<!-- BEGIN QUESTION -->\n",
    "\n",
    "#### Question 2.7 [3]\n",
    "\n",
    "Draw the ROC curve.\n",
    "\n",
    "- Provide a title, x and y label.\n",
    "\n",
    "<!--\n",
    "BEGIN QUESTION\n",
    "name: q2.7\n",
    "manual: true\n",
    "points: 3\n",
    "-->"
   ]
  },
  {
   "cell_type": "code",
   "execution_count": 161,
   "metadata": {},
   "outputs": [
    {
     "data": {
      "image/png": "[encoded data removed]",
      "text/plain": [
       "<Figure size 432x288 with 1 Axes>"
      ]
     },
     "metadata": {
      "needs_background": "light"
     },
     "output_type": "display_data"
    }
   ],
   "source": [
    "y_pred_proba = logistic_model.predict_proba(X_test)[::,1]\n",
    "fpr, tpr, _ = metrics.roc_curve(Y_test,  y_pred_proba)\n",
    "\n",
    "#create ROC curve\n",
    "plt.plot(fpr,tpr)\n",
    "plt.ylabel('True Positive Rate')\n",
    "plt.xlabel('False Positive Rate')\n",
    "plt.show()\n",
    "\n",
    "# The more that the curve hugs the top left corner of the plot, the better the model does at classifying the data into categories.\n",
    "#So, this model did well in this case."
   ]
  },
  {
   "cell_type": "markdown",
   "metadata": {},
   "source": [
    "<!-- END QUESTION -->\n",
    "\n",
    "\n",
    "\n",
    "### Question 3 -  Naive Bayes Classifier"
   ]
  },
  {
   "cell_type": "markdown",
   "metadata": {
    "deletable": false,
    "editable": false
   },
   "source": [
    "#### Question 3.1 [3]\n",
    "\n",
    "- Use the sklearn Countvectorizer. Use the following parameters:\n",
    "    - stop_words = 'english'.\n",
    "    - token_pattern = r'\\b[^\\d\\W]+\\b'. \n",
    "- Call the instantiation 'matrix'.\n",
    "- Get the vectorization (call it bag_of_words) and the feature names (call it 'feature_names_nb').\n",
    "- Write the vectorization to a dataframe with the feature_names as column headings. Call the dataframe 'vectorized_text_nb'.\n",
    "\n",
    "<!--\n",
    "BEGIN QUESTION\n",
    "name: q3.1\n",
    "points: \n",
    "    each: 1\n",
    "-->"
   ]
  },
  {
   "cell_type": "code",
   "execution_count": 165,
   "metadata": {},
   "outputs": [],
   "source": [
    "\n",
    "matrix = CountVectorizer(stop_words = 'english',token_pattern = r'\\b[^\\d\\W]+\\b')\n",
    "bag_of_words = matrix.fit_transform(X_arr)\n",
    "feature_names = matrix.get_feature_names()\n",
    "vectorized_text_nb = pd.DataFrame(bag_of_words.todense(),columns=feature_names)\n"
   ]
  },
  {
   "cell_type": "code",
   "execution_count": 166,
   "metadata": {
    "deletable": false,
    "editable": false
   },
   "outputs": [
    {
     "data": {
      "text/html": [
       "<p><strong><pre style='display: inline;'>q3.1</pre></strong> passed!</p>"
      ],
      "text/plain": [
       "q3.1 results: All test cases passed!"
      ]
     },
     "execution_count": 166,
     "metadata": {},
     "output_type": "execute_result"
    }
   ],
   "source": [
    "grader.check(\"q3.1\")"
   ]
  },
  {
   "cell_type": "markdown",
   "metadata": {
    "deletable": false,
    "editable": false
   },
   "source": [
    "#### Question 3.2 [1]\n",
    "\n",
    "Split the data into a training and test set.\n",
    "\n",
    "- Use a 70/30 split.\n",
    "- Use a seed of 27.\n",
    "- Name the training and test sets: X_train, Y_train, X_test, Y_test.\n",
    "\n",
    "<!--\n",
    "BEGIN QUESTION\n",
    "name: q3.2\n",
    "points: \n",
    "    each: 0.5\n",
    "-->"
   ]
  },
  {
   "cell_type": "code",
   "execution_count": 167,
   "metadata": {},
   "outputs": [],
   "source": [
    "train, test = train_test_split(vectorized_text_nb,test_size=0.30,random_state=27)\n",
    "\n",
    "X_train = train\n",
    "Y_train = review['target'][train.index]\n",
    "\n",
    "X_test = test\n",
    "Y_test = review['target'][test.index]\n"
   ]
  },
  {
   "cell_type": "code",
   "execution_count": 168,
   "metadata": {
    "deletable": false,
    "editable": false
   },
   "outputs": [
    {
     "data": {
      "text/html": [
       "<p><strong><pre style='display: inline;'>q3.2</pre></strong> passed!</p>"
      ],
      "text/plain": [
       "q3.2 results: All test cases passed!"
      ]
     },
     "execution_count": 168,
     "metadata": {},
     "output_type": "execute_result"
    }
   ],
   "source": [
    "grader.check(\"q3.2\")"
   ]
  },
  {
   "cell_type": "markdown",
   "metadata": {
    "deletable": false,
    "editable": false
   },
   "source": [
    "#### Question 3.3 [1]\n",
    "\n",
    "Create an instance of the Naive Bayes model.\n",
    "\n",
    "- Use MultinomialNB.\n",
    "- Fit the model to the training data and call it 'nb_model'. \n",
    "- Calculate the accuracy on the training data and call it 'nb_acc'.\n",
    "\n",
    "**Note**: Round the 'nb_acc' value to 4 decimal points.\n",
    "\n",
    "<!--\n",
    "BEGIN QUESTION\n",
    "name: q3.3\n",
    "points: 1\n",
    "-->"
   ]
  },
  {
   "cell_type": "code",
   "execution_count": 169,
   "metadata": {},
   "outputs": [
    {
     "name": "stdout",
     "output_type": "stream",
     "text": [
      "0.828\n"
     ]
    }
   ],
   "source": [
    "nb = MultinomialNB()\n",
    "nb_model = nb.fit(X_train,Y_train)\n",
    "predict = nb_model.predict(X_test)\n",
    "\n",
    "conf_matrix = confusion_matrix(Y_test,predict)\n",
    "\n",
    "nb_acc =round(metrics.accuracy_score(Y_test,predict),4)\n",
    "\n",
    "print(nb_acc)"
   ]
  },
  {
   "cell_type": "code",
   "execution_count": 170,
   "metadata": {
    "deletable": false,
    "editable": false
   },
   "outputs": [
    {
     "data": {
      "text/html": [
       "<p><strong><pre style='display: inline;'>q3.3</pre></strong> passed!</p>"
      ],
      "text/plain": [
       "q3.3 results: All test cases passed!"
      ]
     },
     "execution_count": 170,
     "metadata": {},
     "output_type": "execute_result"
    }
   ],
   "source": [
    "grader.check(\"q3.3\")"
   ]
  },
  {
   "cell_type": "markdown",
   "metadata": {
    "deletable": false,
    "editable": false
   },
   "source": [
    "#### Question 3.4 [3]\n",
    "\n",
    "Predict class labels for the test set and calculate the class probabilities.\n",
    "\n",
    "- Call the predicted class labels 'predicted'.\n",
    "\n",
    "Calculate the following,\n",
    "\n",
    "- Calculate the accuracy score on the test set and call it 'nb_acc_score'.\n",
    "- Calculate the precision score on the test set and call it 'nb_prec_score'.\n",
    "- Calculate the recall score on the test set and call it 'nb_rec_score'.\n",
    "\n",
    "**Note**: Round the 'nb_acc_score', 'nb_prec_score' and 'nb_rec_score' values to 4 decimal points.\n",
    "\n",
    "<!--\n",
    "BEGIN QUESTION\n",
    "name: q3.4\n",
    "points: \n",
    "    each: 1\n",
    "-->"
   ]
  },
  {
   "cell_type": "code",
   "execution_count": 171,
   "metadata": {},
   "outputs": [
    {
     "name": "stdout",
     "output_type": "stream",
     "text": [
      "0.8526 0.7909 0.828\n"
     ]
    }
   ],
   "source": [
    "predicted=nb_model.predict(X_test)\n",
    "\n",
    "nb_acc_score=round(metrics.accuracy_score(Y_test, predicted),4)\n",
    "nb_rec_score=round(metrics.recall_score(Y_test, predicted),4)\n",
    "nb_prec_score=round(metrics.precision_score(Y_test, predicted),4)\n",
    "print(nb_prec_score , nb_rec_score , nb_acc_score)"
   ]
  },
  {
   "cell_type": "code",
   "execution_count": 172,
   "metadata": {
    "deletable": false,
    "editable": false
   },
   "outputs": [
    {
     "data": {
      "text/html": [
       "<p><strong><pre style='display: inline;'>q3.4</pre></strong> passed!</p>"
      ],
      "text/plain": [
       "q3.4 results: All test cases passed!"
      ]
     },
     "execution_count": 172,
     "metadata": {},
     "output_type": "execute_result"
    }
   ],
   "source": [
    "grader.check(\"q3.4\")"
   ]
  },
  {
   "cell_type": "markdown",
   "metadata": {
    "deletable": false,
    "editable": false
   },
   "source": [
    "<!-- BEGIN QUESTION -->\n",
    "\n",
    "#### Question 3.5 [3]\n",
    "\n",
    "Make use of the performance measures calculated and comment on the model performance.\n",
    "\n",
    "<!--\n",
    "BEGIN QUESTION\n",
    "name: q3.5\n",
    "manual: true\n",
    "points: 3\n",
    "-->"
   ]
  },
  {
   "cell_type": "markdown",
   "metadata": {},
   "source": [
    "The hight accuracy score of 0.8280 tells us that: the number of correct predictions/total number of predictons is quite accurate. So, therefore the model made correct predictions 82.80% of the time.\n",
    "\n",
    "The precision metric also tells us that the modelis correct about 85.26% of the time.\n",
    "\n",
    "The recall metric of 0.7909 tells us that the model was able to identify the relevant data very well.\n",
    "\n",
    "All these metrics tells us that the model is functioning deterministically according to the data, and it was not up to random chance.So, yes the model performed better than randomly assigning classes."
   ]
  },
  {
   "cell_type": "markdown",
   "metadata": {
    "deletable": false,
    "editable": false
   },
   "source": [
    "<!-- END QUESTION -->\n",
    "\n",
    "<!-- BEGIN QUESTION -->\n",
    "\n",
    "### Question 4 [3]\n",
    "\n",
    "Which model do you recommend for classifying the IMDB review data? Give a motivation.\n",
    "\n",
    "<!--\n",
    "BEGIN QUESTION\n",
    "name: q4\n",
    "manual: true\n",
    "points: 3\n",
    "-->"
   ]
  },
  {
   "cell_type": "markdown",
   "metadata": {},
   "source": [
    "I would recomnd the logistic regression model because all its preformance metrics were sliightly higher than the Naive Bayes Classifier model, it was also less computationally intensive and there are more preformace metrics and diagnostics like the AUC and ROC to decern if the model worked well or if it was just a random chance."
   ]
  },
  {
   "cell_type": "markdown",
   "metadata": {},
   "source": [
    "<!-- END QUESTION -->\n",
    "\n",
    "\n",
    "\n",
    "## Movie review: Topic modelling"
   ]
  },
  {
   "cell_type": "markdown",
   "metadata": {},
   "source": [
    "### Question 5 - Latent Dirichlet Allocation (LDA)"
   ]
  },
  {
   "cell_type": "markdown",
   "metadata": {
    "deletable": false,
    "editable": false
   },
   "source": [
    "#### Question 5.1 [1]\n",
    "\n",
    "- Use the sklearn Countvectorizer. Use the following parameters:\n",
    "    - stop_words = 'english'.\n",
    "    - max_features = 1000.\n",
    "    - token_pattern = r'\\b[^\\d\\W]+\\b'. \n",
    "- Call the instantiation 'lda_mat'.\n",
    "- Get the vectorization (call it bag_of_words) and the feature names (call it 'feature_names')\n",
    "\n",
    "\n",
    "<!--\n",
    "BEGIN QUESTION\n",
    "name: q5.1\n",
    "points: 1\n",
    "-->"
   ]
  },
  {
   "cell_type": "code",
   "execution_count": 173,
   "metadata": {},
   "outputs": [],
   "source": [
    "lda_mat = CountVectorizer(stop_words = 'english', token_pattern =r'\\b[^\\d\\W]+\\b', max_features = 1000)\n",
    "bag_of_words = lda_mat.fit_transform(X_arr)\n",
    "feature_names = lda_mat.get_feature_names()\n",
    "no_topics = 20\n",
    "\n",
    "# Run LDA\n",
    "lda = LatentDirichletAllocation(n_components = no_topics,\n",
    "                                max_iter = 5,\n",
    "                                learning_method = 'online',\n",
    "                                learning_offset = 50.,\n",
    "                                random_state = 0).fit(bag_of_words)\n",
    "\n",
    "# print(lda)"
   ]
  },
  {
   "cell_type": "code",
   "execution_count": 174,
   "metadata": {
    "deletable": false,
    "editable": false
   },
   "outputs": [
    {
     "data": {
      "text/html": [
       "<p><strong><pre style='display: inline;'>q5.1</pre></strong> passed!</p>"
      ],
      "text/plain": [
       "q5.1 results: All test cases passed!"
      ]
     },
     "execution_count": 174,
     "metadata": {},
     "output_type": "execute_result"
    }
   ],
   "source": [
    "grader.check(\"q5.1\")"
   ]
  },
  {
   "cell_type": "markdown",
   "metadata": {
    "deletable": false,
    "editable": false
   },
   "source": [
    "#### Question 5.2 [2]\n",
    "\n",
    "Write a function to find the top 15 unique words.\n",
    "\n",
    "- Function name: top_ten_features.\n",
    "\n",
    "    - Input: corpus (X_arr).\n",
    "    - Output: A list of tuples where the first tuple item is the word and the second tuple item is the frequency. Call this list 'top_ten'. \n",
    "\n",
    "**Note**: Use the same parameters as above for Countvectoriser.\n",
    "\n",
    "<!--\n",
    "BEGIN QUESTION\n",
    "name: q5.2\n",
    "points: \n",
    "    each: 1\n",
    "-->"
   ]
  },
  {
   "cell_type": "code",
   "execution_count": 175,
   "metadata": {},
   "outputs": [
    {
     "name": "stdout",
     "output_type": "stream",
     "text": [
      "[('br', 10152), ('s', 5958), ('movie', 4388), ('film', 3936), ('t', 3385), ('like', 1932), ('just', 1761), ('good', 1461), ('time', 1167), ('story', 1141), ('really', 1128), ('bad', 906), ('people', 876), ('great', 867), ('don', 852)]\n"
     ]
    }
   ],
   "source": [
    "\n",
    "def top_15_features(corpus):\n",
    "    vec =CountVectorizer(stop_words = 'english', token_pattern =r'\\b[^\\d\\W]+\\b', max_features = 1000)\n",
    "    BoW = vec.fit_transform(corpus)\n",
    "    unique_words = vec.get_feature_names()\n",
    "    sum_words = BoW.sum(axis = 0)\n",
    "    words_freq = [(word, sum_words[0, idx]) for word, idx in vec.vocabulary_.items()]\n",
    "    words_freq = sorted(words_freq, key = lambda x: x[1], reverse = True)\n",
    "    \n",
    "    return words_freq[:15]\n",
    "\n",
    "corpus =X_arr\n",
    "top_ten = top_15_features(corpus)\n",
    "\n",
    "print(top_15)"
   ]
  },
  {
   "cell_type": "code",
   "execution_count": 176,
   "metadata": {
    "deletable": false,
    "editable": false
   },
   "outputs": [
    {
     "data": {
      "text/html": [
       "<p><strong><pre style='display: inline;'>q5.2</pre></strong> passed!</p>"
      ],
      "text/plain": [
       "q5.2 results: All test cases passed!"
      ]
     },
     "execution_count": 176,
     "metadata": {},
     "output_type": "execute_result"
    }
   ],
   "source": [
    "grader.check(\"q5.2\")"
   ]
  },
  {
   "cell_type": "markdown",
   "metadata": {
    "deletable": false,
    "editable": false
   },
   "source": [
    "<!-- BEGIN QUESTION -->\n",
    "\n",
    "#### Question 5.3 [2]\n",
    "\n",
    "Call the function below to display the top ten words of each topic. As input, the function takes:\n",
    "\n",
    "- the fitted model.\n",
    "- the feature_names.\n",
    "\n",
    "<!--\n",
    "BEGIN QUESTION\n",
    "name: q3.5\n",
    "manual: true\n",
    "points: 2\n",
    "-->"
   ]
  },
  {
   "cell_type": "code",
   "execution_count": 177,
   "metadata": {},
   "outputs": [
    {
     "name": "stdout",
     "output_type": "stream",
     "text": [
      "Topic 0:\n",
      "film t lot expect s feature time plot short watching\n",
      "Topic 1:\n",
      "period little piece worth br tough soundtrack modern watch true\n",
      "Topic 2:\n",
      "king earth star father hold br adult plain focus sequel\n",
      "Topic 3:\n",
      "plot car thriller turns special type star given actor effective\n",
      "Topic 4:\n",
      "br series episode match fi sci episodes season tv effects\n",
      "Topic 5:\n",
      "horror film gore films zombie dead sequel fans genre classic\n",
      "Topic 6:\n",
      "film funny original just movie high like s characters school\n",
      "Topic 7:\n",
      "video cult ultimately motion brought sequence baby opening set excellent\n",
      "Topic 8:\n",
      "mainly stop kept older beginning screenplay understand violent needs fight\n",
      "Topic 9:\n",
      "game br jimmy island prison s western drugs army gun\n",
      "Topic 10:\n",
      "movie t just br bad good s like don really\n",
      "Topic 11:\n",
      "dr disney cat seven s terrific jack cast town lady\n",
      "Topic 12:\n",
      "girls sex s women school woman kids like pretty girl\n",
      "Topic 13:\n",
      "br s film movie t like just story good time\n",
      "Topic 14:\n",
      "ii pure entertainment basically eyes just audience fighting gore film\n",
      "Topic 15:\n",
      "doctor hospital father movie george mad indian great job night\n",
      "Topic 16:\n",
      "war cold british german battle political century filled production large\n",
      "Topic 17:\n",
      "japanese henry wife train tom version br ghost s kill\n",
      "Topic 18:\n",
      "br lot possible came saw monster trying year horror film\n",
      "Topic 19:\n",
      "s movie funny things story just good thing added better\n"
     ]
    }
   ],
   "source": [
    "def display_topics(model, feature_names):\n",
    "    for topic_idx, topic in enumerate(model.components_):\n",
    "        print(\"Topic %d:\" % (topic_idx))\n",
    "        print (\" \".join([feature_names[i]\n",
    "                        for i in topic.argsort()[:-10 - 1:-1]]))\n",
    "\n",
    "display_topics(lda,feature_names)"
   ]
  },
  {
   "cell_type": "markdown",
   "metadata": {
    "deletable": false,
    "editable": false
   },
   "source": [
    "---\n",
    "\n",
    "To double-check your work, the cell below will rerun all of the autograder tests."
   ]
  },
  {
   "cell_type": "code",
   "execution_count": null,
   "metadata": {
    "deletable": false,
    "editable": false
   },
   "outputs": [],
   "source": [
    "grader.check_all()"
   ]
  },
  {
   "cell_type": "markdown",
   "metadata": {
    "deletable": false,
    "editable": false
   },
   "source": [
    "## Submission\n",
    "\n",
    "Make sure you have run all cells in your notebook in order before running the cell below, so that all images/graphs appear in the output. The cell below will generate a zip file for you to submit. **Please save before exporting!**"
   ]
  },
  {
   "cell_type": "code",
   "execution_count": 178,
   "metadata": {
    "deletable": false,
    "editable": false
   },
   "outputs": [
    {
     "data": {
      "text/html": [
       "\n",
       "                <p>Your submission has been exported. Click <a href=\"assignment_6_2021_11_10T19_48_57_834142.zip\" target=\"_blank\">here</a>\n",
       "                to download the zip file.</p>\n",
       "                "
      ],
      "text/plain": [
       "<IPython.core.display.HTML object>"
      ]
     },
     "metadata": {},
     "output_type": "display_data"
    }
   ],
   "source": [
    "# Save your notebook first, then run this cell to export your submission.\n",
    "grader.export(pdf=False)"
   ]
  },
  {
   "cell_type": "markdown",
   "metadata": {},
   "source": [
    " "
   ]
  }
 ],
 "metadata": {
  "celltoolbar": "Create Assignment",
  "kernelspec": {
   "display_name": "Python 3",
   "language": "python",
   "name": "python3"
  },
  "language_info": {
   "codemirror_mode": {
    "name": "ipython",
    "version": 3
   },
   "file_extension": ".py",
   "mimetype": "text/x-python",
   "name": "python",
   "nbconvert_exporter": "python",
   "pygments_lexer": "ipython3",
   "version": "3.8.5"
  }
 },
 "nbformat": 4,
 "nbformat_minor": 2
}
